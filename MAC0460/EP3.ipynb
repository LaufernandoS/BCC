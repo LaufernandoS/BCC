{
  "cells": [
    {
      "cell_type": "markdown",
      "metadata": {
        "deletable": false,
        "editable": false,
        "id": "yM8Skk6cEvcB",
        "nbgrader": {
          "cell_type": "markdown",
          "checksum": "151a88f4e57da465816024ac50130028",
          "grade": false,
          "grade_id": "cell-fe17abb7219564fe",
          "locked": true,
          "schema_version": 3,
          "solution": false,
          "task": false
        },
        "tags": []
      },
      "source": [
        "# MAC0460 / MAC5832 (2025)\n",
        "<hr>\n",
        "\n",
        "# EP3: Logistic regression (binary classification)\n",
        "\n",
        "### Objectives:\n",
        "\n",
        "- to implement and test the logistic regression algorithm (binary classification with labels 0 and 1)\n",
        "\n",
        "### What to do:\n",
        "Some cells of this notebook must be filled. Cells to be filled are <mark>highlighted</mark> and places to be filled are indicated as:\n",
        "<code>\n",
        "    # YOUR CODE HERE:\n",
        "</code>\n",
        "<hr>"
      ]
    },
    {
      "cell_type": "markdown",
      "metadata": {
        "deletable": false,
        "editable": false,
        "nbgrader": {
          "cell_type": "markdown",
          "checksum": "d7a715c25940b79bd2b57a8457467169",
          "grade": false,
          "grade_id": "cell-403f8f75f7be44ad",
          "locked": true,
          "schema_version": 3,
          "solution": false,
          "task": false
        },
        "id": "wU-BfamXcAVH"
      },
      "source": [
        "## INSTRUCTIONS\n",
        "\n",
        "1. Fill in your identificatin information in the cell below, before submitting this notebook.\n",
        "2. Submit only this **notebook with all required cells filled and with the results of the execution** of all code cells\n",
        "3. Do not change function names and parameters\n",
        "4. Questions should be posted in the e-disciplinas discussion forum or sent to  mlimemonitoria@gmail.com\n",
        "5. By submitting this EP, you declare that the content being submitted is the result of your own work, and you did not resort to unethical means to do the EP."
      ]
    },
    {
      "cell_type": "markdown",
      "metadata": {
        "id": "06eT5ka6cAVI"
      },
      "source": [
        "### IDENTIFICATION\n",
        "\n",
        "* Your name ==> _<mark>Laufernando Souza Dias</mark>_\n",
        "* Pós, graduação, especial, ouvinte? ==> _<mark>Graduação</mark>_\n",
        "* If you used some specific external source material or AI-based tools like ChatGPT or similar ones to do the EP, describe the sources you used and how they were used.<br>\n",
        "==> _<mark>Documentação do Numpy + Comentários do Código em Inglês</mark>_"
      ]
    },
    {
      "cell_type": "markdown",
      "metadata": {
        "deletable": false,
        "editable": false,
        "id": "oET7lkowAQkf",
        "nbgrader": {
          "cell_type": "markdown",
          "checksum": "93dabd22bec2426f1596c1a54fed64ab",
          "grade": false,
          "grade_id": "cell-6833c0ba3623eb70",
          "locked": true,
          "schema_version": 3,
          "solution": false,
          "task": false
        }
      },
      "source": [
        "### For this EP we will use automatic testing\n",
        "\n",
        "After every task, you will see a test cell to check your solution. We encourage you to experiment with these values to ensure your code is correct"
      ]
    },
    {
      "cell_type": "code",
      "execution_count": 1,
      "metadata": {
        "deletable": false,
        "editable": false,
        "nbgrader": {
          "cell_type": "code",
          "checksum": "c9be256791f1057c3b4af9cc2be56243",
          "grade": false,
          "grade_id": "cell-68569650e39ed38e",
          "locked": true,
          "schema_version": 3,
          "solution": false,
          "task": false
        },
        "id": "Ovzfx_LTcAVJ"
      },
      "outputs": [],
      "source": [
        "# All imports\n",
        "\n",
        "import numpy as np\n",
        "\n",
        "import matplotlib.pyplot as plt\n",
        "from matplotlib.lines import Line2D\n",
        "\n",
        "import pandas as pd\n",
        "\n",
        "from sklearn.datasets import make_blobs\n",
        "\n",
        "%matplotlib inline"
      ]
    },
    {
      "cell_type": "markdown",
      "metadata": {
        "deletable": false,
        "editable": false,
        "nbgrader": {
          "cell_type": "markdown",
          "checksum": "34a65d7c292069ab51199d311d1e4401",
          "grade": false,
          "grade_id": "cell-b1d8e2547d1e1e74",
          "locked": true,
          "schema_version": 3,
          "solution": false,
          "task": false
        },
        "id": "YbmBKRekcAVK"
      },
      "source": [
        "# <font style=\"background-color:#abebc6\">1. Training and prediction algorithms</font>\n",
        "\n",
        "We will use the formulation discussed in class: we use 1 for the positive class label and 0 for the negative class label. See Section 3.3.1 of \"Notas de aula\".\n",
        "\n",
        "In the next four code cells, write the code for the specified functions. These functions will be used afterwards for some training and prediction cases. Use vectorial computation with NumPy."
      ]
    },
    {
      "cell_type": "code",
      "execution_count": 2,
      "metadata": {
        "deletable": false,
        "editable": false,
        "nbgrader": {
          "cell_type": "code",
          "checksum": "af2a35f5aa5de1e21f5075104e05b62f",
          "grade": false,
          "grade_id": "cell-759a79d788009b79",
          "locked": true,
          "schema_version": 3,
          "solution": false,
          "task": false
        },
        "id": "utCkGAdBcAVK"
      },
      "outputs": [],
      "source": [
        "# this is the sigmoid function. Just use it\n",
        "def sigmoid(z):\n",
        "    return 1 / (1 + np.exp(-z))"
      ]
    },
    {
      "cell_type": "markdown",
      "metadata": {
        "deletable": false,
        "editable": false,
        "nbgrader": {
          "cell_type": "markdown",
          "checksum": "93b81928c0315bd3c30e7ddf32c6c712",
          "grade": false,
          "grade_id": "cell-75cd9d547a24d399",
          "locked": true,
          "schema_version": 3,
          "solution": false,
          "task": false
        },
        "id": "mc9Zfr8HcAVL"
      },
      "source": [
        "## <font style=\"background-color: #f7dc6f\">1.1. Cross-entropy loss</font>"
      ]
    },
    {
      "cell_type": "code",
      "execution_count": 3,
      "metadata": {
        "deletable": false,
        "nbgrader": {
          "cell_type": "code",
          "checksum": "5a37668adff2f497d3d0822d72fc3370",
          "grade": false,
          "grade_id": "cell-0f214ed1afa5d8ed",
          "locked": false,
          "schema_version": 3,
          "solution": true,
          "task": false
        },
        "id": "67y0ff9RcAVL"
      },
      "outputs": [],
      "source": [
        "def cross_entropy_loss(w, X, y):\n",
        "    \"\"\"\n",
        "    Computes the cross-entropy loss\n",
        "    :param w: weight vector\n",
        "    :type: np.ndarray(shape=(1+d,1))\n",
        "    :param X: design matrix\n",
        "    :type X: np.ndarray(shape=(N,1+d))\n",
        "    :param y: class labels\n",
        "    :type y: np.ndarray(shape=(N,1))\n",
        "    :return loss: cross-entropy loss\n",
        "    :rtype: float\n",
        "    \"\"\"\n",
        "    # Compute linear combination: X * w\n",
        "    z = X @ w\n",
        "\n",
        "    # Compute sigmoid probabilities: p = 1 / (1 + exp(-z))\n",
        "    # Using np.clip to avoid numerical instability + Prevent overflow\n",
        "    z_clipped = np.clip(z, -500, 500)\n",
        "    p = 1 / (1 + np.exp(-z_clipped))\n",
        "\n",
        "    # Clip probabilities to avoid log(0)\n",
        "    p_clipped = np.clip(p, 1e-15, 1 - 1e-15)\n",
        "\n",
        "    # Compute cross-entropy loss\n",
        "    N = X.shape[0]\n",
        "    loss = -1/N * np.sum(y * np.log(p_clipped) + (1 - y) * np.log(1 - p_clipped))\n",
        "\n",
        "    return float(loss)"
      ]
    },
    {
      "cell_type": "code",
      "execution_count": 4,
      "metadata": {
        "deletable": false,
        "editable": false,
        "nbgrader": {
          "cell_type": "code",
          "checksum": "3c6658049a5d37bee69e8d3cde5e2d35",
          "grade": true,
          "grade_id": "cell-171f20cc4cc069fd",
          "locked": true,
          "points": 10,
          "schema_version": 3,
          "solution": false,
          "task": false
        },
        "id": "nrJx0y9vcAVL"
      },
      "outputs": [],
      "source": [
        "# TEST CELL\n",
        "X_test = np.array([[1., 2.], [1., 3.], [1., 4.]])\n",
        "y_test = np.array([[0.], [1.], [1.]])\n",
        "w_test = np.array([[0.], [1.]])\n",
        "expected_cost = 0.731222\n",
        "assert np.isclose(cross_entropy_loss(w_test, X_test, y_test), expected_cost, atol=1e-1), \"Test for cross_entropy_loss failed\"\n"
      ]
    },
    {
      "cell_type": "markdown",
      "metadata": {
        "deletable": false,
        "editable": false,
        "nbgrader": {
          "cell_type": "markdown",
          "checksum": "32fd71c5b5bf7630811ea8197be2c093",
          "grade": false,
          "grade_id": "cell-5f3a98228ee41b1c",
          "locked": true,
          "schema_version": 3,
          "solution": false,
          "task": false
        },
        "id": "34R47Jo-cAVM"
      },
      "source": [
        "## <font style=\"background-color: #f7dc6f\">1.2. Gradient of the cross-entropy loss</font>"
      ]
    },
    {
      "cell_type": "code",
      "execution_count": 5,
      "metadata": {
        "deletable": false,
        "nbgrader": {
          "cell_type": "code",
          "checksum": "d94c5d6f944461642bc110b36598a692",
          "grade": false,
          "grade_id": "cell-498628d1a27734b5",
          "locked": false,
          "schema_version": 3,
          "solution": true,
          "task": false
        },
        "id": "44kwzQ6RcAVM"
      },
      "outputs": [],
      "source": [
        "def cross_entropy_gradient(w, X, y):\n",
        "    \"\"\"\n",
        "    Computes the gradient of the loss function\n",
        "    :param w: weight vector\n",
        "    :type: np.ndarray(shape=(1+d,1))\n",
        "    :param X: design matrix\n",
        "    :type X: np.ndarray(shape=(N,1+d))\n",
        "    :param y: class labels\n",
        "    :type y: np.ndarray(shape=(N,1))\n",
        "    :return grad: gradient\n",
        "    :rtype: float\n",
        "    \"\"\"\n",
        "    # Compute linear combination: X * w\n",
        "    z = X @ w\n",
        "\n",
        "    # Compute sigmoid probabilities: p = 1 / (1 + exp(-z))\n",
        "    # Using np.clip to avoid numerical instability + Prevent overflow\n",
        "    z_clipped = np.clip(z, -500, 500)\n",
        "    p = 1 / (1 + np.exp(-z_clipped))\n",
        "\n",
        "    # Compute gradient: grad = 1/N * X^T * (p - y)\n",
        "    N = X.shape[0]\n",
        "    grad = (1/N) * X.T @ (p - y)\n",
        "\n",
        "    return grad"
      ]
    },
    {
      "cell_type": "code",
      "execution_count": 6,
      "metadata": {
        "deletable": false,
        "editable": false,
        "nbgrader": {
          "cell_type": "code",
          "checksum": "17e72cf2322345b6ada16f43a01df371",
          "grade": true,
          "grade_id": "cell-3c087f124dde04ef",
          "locked": true,
          "points": 10,
          "schema_version": 3,
          "solution": false,
          "task": false
        },
        "id": "ocHnunOlcAVM"
      },
      "outputs": [],
      "source": [
        "# TEST CELL\n",
        "X_test = np.array([[5., 0.], [1., 6.], [9., 2.]])\n",
        "y_test = np.array([[0.], [1.], [0.]])\n",
        "w_test = np.array([[0.], [7.]])\n",
        "expected_grad = np.array([[3.83333084], [0.66666611]])\n",
        "assert np.allclose(cross_entropy_gradient(w_test, X_test, y_test), expected_grad, 1e-1), \"Test for cross_entropy_gradient failed\"\n"
      ]
    },
    {
      "cell_type": "markdown",
      "metadata": {
        "deletable": false,
        "editable": false,
        "nbgrader": {
          "cell_type": "markdown",
          "checksum": "d3e63668d4f27cee47f57af30331b89b",
          "grade": false,
          "grade_id": "cell-9bcd492bc18f03c6",
          "locked": true,
          "schema_version": 3,
          "solution": false,
          "task": false
        },
        "id": "4jH3QwwHcAVM"
      },
      "source": [
        "## <font style=\"background-color: #f7dc6f\">1.3 Logistic regression training</font>\n",
        "\n",
        "The function below receives the extended data matrix <tt> X (shape = (N, d+1))</tt> and the ouput vector <tt>y (shape = (N,1))</tt>, and should return the final weight vector <tt>w (shape = (d+1,1))</tt> and a list of size <tt>num_iterations+1</tt> with the cross-entropy loss values at the beginning and after each of the iterations, when <tt>return_history</tt> is <tt>True</tt>, or a Null list otherwise.\n",
        "\n",
        "If <tt>w0==None</tt>, then it must be initialized  with <tt>w0 = np.random.normal(loc = 0, scale = 1, size = X.shape[1])</tt>\n"
      ]
    },
    {
      "cell_type": "code",
      "execution_count": 7,
      "metadata": {
        "deletable": false,
        "nbgrader": {
          "cell_type": "code",
          "checksum": "c80b114d34430f76fc993ea6672bc24e",
          "grade": false,
          "grade_id": "cell-0b0b00f0c27d5190",
          "locked": false,
          "schema_version": 3,
          "solution": true,
          "task": false
        },
        "id": "NG-HndrgcAVN"
      },
      "outputs": [],
      "source": [
        "def train_logistic(X, y, learning_rate = 1e-3, w0 = None,\\\n",
        "                        num_iterations = 300, return_history = False):\n",
        "    \"\"\"\n",
        "    Computes the weight vector applying the gradient descent technique\n",
        "    :param X: design matrix\n",
        "    :type X: np.ndarray(shape=(N,d+1))\n",
        "    :param y: class label\n",
        "    :type y: np.ndarray(shape=(N,1))\n",
        "    :return: weight vector\n",
        "    :rtype: np.ndarray(shape=(1+d,1))\n",
        "    :return: the history of loss values (optional)\n",
        "    :rtype: list of floats\n",
        "    \"\"\"\n",
        "\n",
        "    # Initialize the weight vector with random values\n",
        "    # Here, drawn independently from a normal unit distribution\n",
        "    if w0 is None:\n",
        "        w0 = np.random.normal(loc = 0, scale = 1, size = X.shape[1]).reshape(X.shape[1],1)\n",
        "    w = w0.copy()\n",
        "\n",
        "    # To store the cross entropy value at each iteration\n",
        "    history = []\n",
        "\n",
        "    # Store initial loss if returning history\n",
        "    if return_history:\n",
        "        initial_loss = cross_entropy_loss(w, X, y)\n",
        "        history.append(initial_loss)\n",
        "\n",
        "    # Gradient descent loop\n",
        "    for i in range(num_iterations):\n",
        "        grad = cross_entropy_gradient(w, X, y)\n",
        "\n",
        "        # Update weights: w = w - learning_rate * gradient\n",
        "        w = w - learning_rate * grad\n",
        "\n",
        "        # Store loss at current iteration if returning history\n",
        "        if return_history:\n",
        "            current_loss = cross_entropy_loss(w, X, y)\n",
        "            history.append(current_loss)\n",
        "\n",
        "    # Return results based on return_history flag\n",
        "    if return_history:\n",
        "        return w, history\n",
        "    else:\n",
        "        return w, []\n"
      ]
    },
    {
      "cell_type": "code",
      "execution_count": 8,
      "metadata": {
        "deletable": false,
        "editable": false,
        "nbgrader": {
          "cell_type": "code",
          "checksum": "59634dce1b7d01e357d083046a967131",
          "grade": true,
          "grade_id": "cell-e695ba125bb7b240",
          "locked": true,
          "points": 10,
          "schema_version": 3,
          "solution": false,
          "task": false
        },
        "id": "tGC5_ETzcAVN"
      },
      "outputs": [],
      "source": [
        "# TEST CELL\n",
        "X_test = np.array([[1., 2.], [1., 3.], [1., 4.]])\n",
        "y_test = np.array([[0.], [1.], [1.]])\n",
        "w_test = np.array([[0.], [0.]])\n",
        "expected_w_final = np.array([[-3.19581162], [ 1.47454342]])\n",
        "learning_rate = 0.05\n",
        "num_iters = 1000\n",
        "expected_loss_history_length = num_iters + 1\n",
        "w_final, loss_history = train_logistic(X_test, y_test, learning_rate, w_test, num_iters, return_history=True)\n",
        "assert np.allclose(w_final, expected_w_final, atol=1e-1), \"Test failed for train_logistic: w_final incorrect\"\n",
        "assert len(loss_history) == expected_loss_history_length, \"Test failed for train_logistic: loss history length incorrect\"\n",
        "\n",
        "w_final, loss_history = train_logistic(X_test, y_test, learning_rate, w_test, num_iters, return_history=True)\n"
      ]
    },
    {
      "cell_type": "markdown",
      "metadata": {
        "deletable": false,
        "editable": false,
        "nbgrader": {
          "cell_type": "markdown",
          "checksum": "a7e320faba65fc72bc60cfd77b920af9",
          "grade": false,
          "grade_id": "cell-5a63d0b1592ef55a",
          "locked": true,
          "schema_version": 3,
          "solution": false,
          "task": false
        },
        "id": "BSPllHaocAVN"
      },
      "source": [
        "## <font style=\"background-color: #f7dc6f\">1.4. Logistic regression prediction</font>\n",
        "\n",
        "The function in the next cell will be used to do the prediction. Recall that the prediction is a score in $[0,1]$, given by the sigmoid value of the linear combination."
      ]
    },
    {
      "cell_type": "code",
      "execution_count": 9,
      "metadata": {
        "deletable": false,
        "nbgrader": {
          "cell_type": "code",
          "checksum": "a1dd4168becdd4fa49b1ac6f62ff4624",
          "grade": false,
          "grade_id": "cell-5ab00d83e8ded78c",
          "locked": false,
          "schema_version": 3,
          "solution": true,
          "task": false
        },
        "id": "q8jw9gRpcAVN"
      },
      "outputs": [],
      "source": [
        "def predict_logistic(X, w):\n",
        "    \"\"\"\n",
        "    Computes the logistic regression prediction\n",
        "    :param X: design matrix\n",
        "    :type X: np.ndarray(shape=(N,d+1))\n",
        "    :param w: weight vector\n",
        "    :rtype: np.ndarray(shape=(1+d,1))\n",
        "    :return: predicted classes\n",
        "    :rtype: np.ndarray(shape=(N,1))\n",
        "    \"\"\"\n",
        "\n",
        "    # Compute linear combination: z = X * w\n",
        "    z = X @ w\n",
        "\n",
        "    # Apply sigmoid function to get predictions in [0,1]\n",
        "    # p = 1 / (1 + exp(-z))\n",
        "    # Using np.clip to avoid numerical instability + Prevent overflow\n",
        "    z_clipped = np.clip(z, -500, 500)\n",
        "    predictions = 1 / (1 + np.exp(-z_clipped))\n",
        "\n",
        "    return predictions"
      ]
    },
    {
      "cell_type": "code",
      "execution_count": 10,
      "metadata": {
        "deletable": false,
        "editable": false,
        "nbgrader": {
          "cell_type": "code",
          "checksum": "8d8545d8373ac75320618eff21755433",
          "grade": true,
          "grade_id": "cell-0f34bf481567da72",
          "locked": true,
          "points": 10,
          "schema_version": 3,
          "solution": false,
          "task": false
        },
        "id": "3T1dY9f4cAVN"
      },
      "outputs": [],
      "source": [
        "# TEST CELL\n",
        "X_test = np.array([[1., 2.], [1., 0.], [1., 4.]])\n",
        "w_test = np.array([[0.], [1.]])\n",
        "expected_predictions = np.array([[0.88079708], [0.5], [0.98201379]])\n",
        "predictions = predict_logistic(X_test, w_test)\n",
        "assert np.allclose(predictions, expected_predictions, atol=1e-1), \"Test failed for prediction_logistic\"\n",
        "\n"
      ]
    },
    {
      "cell_type": "markdown",
      "metadata": {
        "deletable": false,
        "editable": false,
        "nbgrader": {
          "cell_type": "markdown",
          "checksum": "2f1b0cb18ffceb152a17581292ff2b34",
          "grade": false,
          "grade_id": "cell-228773a5d7a4e797",
          "locked": true,
          "schema_version": 3,
          "solution": false,
          "task": false
        },
        "id": "BRelyvAkcAVN"
      },
      "source": [
        "# <font style=\"background-color:#abebc6\">2. Testing the training and prediction algorithms on toy datasets</font>"
      ]
    },
    {
      "cell_type": "markdown",
      "metadata": {
        "deletable": false,
        "editable": false,
        "nbgrader": {
          "cell_type": "markdown",
          "checksum": "c48fa6681136879ba312d606c6f750be",
          "grade": false,
          "grade_id": "cell-aca7606162276a54",
          "locked": true,
          "schema_version": 3,
          "solution": false,
          "task": false
        },
        "id": "b_zP0jCgcAVO"
      },
      "source": [
        "## 2.1. 2D data, separable case"
      ]
    },
    {
      "cell_type": "markdown",
      "metadata": {
        "deletable": false,
        "editable": false,
        "nbgrader": {
          "cell_type": "markdown",
          "checksum": "1978d4399c290bff581a8885dd4455d1",
          "grade": false,
          "grade_id": "cell-2814a2f7b2c5b33d",
          "locked": true,
          "schema_version": 3,
          "solution": false,
          "task": false
        },
        "id": "V1V8PC01cAVO"
      },
      "source": [
        "### 2.1.1. Generate two blobs of points\n",
        "\n",
        "---\n",
        "\n",
        "In this code cell, change the variable `data_type` to produce different types of observations.\n",
        "- \"regular\" corresponds to clean data with two distinct classes where a decision boundary can be drawn very easily.\n",
        "- \"unbalaced\" is a type of dataset where one class has way more observations than the other.\n",
        "- \"overlapping\" is a dataset where there is not a clearly distinct decision boundary to separate both classes (at least not in this dimension).\n",
        "\n",
        "---\n",
        "\n",
        "Play around with these dataset types and make observations.\n",
        "You can also change the variable `unbalance_mod` to change the inbalance level between the classes or `overlap_std` to change how much the two classes overlap. For example, if `unbalance_mod = 10` there will be 10 times more example in class 2."
      ]
    },
    {
      "cell_type": "code",
      "execution_count": 11,
      "metadata": {
        "deletable": false,
        "editable": false,
        "nbgrader": {
          "cell_type": "code",
          "checksum": "9bacf60196819acf26a0435b2b2beff1",
          "grade": false,
          "grade_id": "cell-fe91020c199c1b16",
          "locked": true,
          "schema_version": 3,
          "solution": false,
          "task": false
        },
        "id": "HVPEnNw-cAVO",
        "colab": {
          "base_uri": "https://localhost:8080/"
        },
        "outputId": "fc16698d-ea25-479c-caab-7f86b6f3c5c1"
      },
      "outputs": [
        {
          "output_type": "stream",
          "name": "stdout",
          "text": [
            "X (180, 2)\n",
            "Xtilde (180, 3)\n",
            "y.shape = (180, 1)\n"
          ]
        }
      ],
      "source": [
        "# Create two blobs\n",
        "N = 300\n",
        "# change this variable to test different types of data. Possible values: \"regular\", \"unbalanced\", \"overlapping\".\n",
        "dataset_type = \"unbalanced\"\n",
        "# change this variable to test different magnitudes of inbalance\n",
        "unbalance_mod = 5\n",
        "# change this variable to test different magnitudes of overlap between classes\n",
        "overlap_std = 0.5\n",
        "\n",
        "if dataset_type == \"regular\":\n",
        "  X, y = make_blobs(n_samples=N, centers=2, cluster_std=0.1, center_box=(-1.0, 1.0), n_features=2, random_state=2)\n",
        "\n",
        "elif dataset_type == \"unbalanced\":\n",
        "  X, y = make_blobs(n_samples=N, centers=2, cluster_std=0.2, center_box=(-1.0, 1.0), n_features=2, random_state=2, shuffle=False)\n",
        "  len_0 = (y==0).sum()\n",
        "  slice_idx = int(len_0/unbalance_mod)\n",
        "  X = X[len_0-slice_idx:]\n",
        "  y = y[len_0-slice_idx:]\n",
        "  p = np.random.permutation(len(X))\n",
        "  X = X[p]\n",
        "  y = y[p]\n",
        "\n",
        "elif dataset_type == \"overlapping\":\n",
        "  X, y = make_blobs(n_samples=N, centers=2, cluster_std=overlap_std, center_box=(-1.0, 1.0), n_features=2, random_state=2)\n",
        "\n",
        "else:\n",
        "  raise NotImplementedError(\"Please choose a valid dataset_type\")\n",
        "\n",
        "# Add a bias value 1 as the first coordinate of each example\n",
        "Xtilde = np.concatenate([np.ones((len(X), 1)), X], axis = 1)\n",
        "\n",
        "y = y.reshape(len(y),1)\n",
        "print(\"X\", X.shape)\n",
        "print(\"Xtilde\", Xtilde.shape)\n",
        "print(\"y.shape =\", y.shape)\n"
      ]
    },
    {
      "cell_type": "markdown",
      "metadata": {
        "deletable": false,
        "editable": false,
        "nbgrader": {
          "cell_type": "markdown",
          "checksum": "5d746b82a71073b6e4c26c2426c365f6",
          "grade": false,
          "grade_id": "cell-05cb4ca9c384cfda",
          "locked": true,
          "schema_version": 3,
          "solution": false,
          "task": false
        },
        "id": "E7ewOJggcAVO"
      },
      "source": [
        "### 2.1.2. Let's plot the blobs of points"
      ]
    },
    {
      "cell_type": "code",
      "execution_count": 12,
      "metadata": {
        "deletable": false,
        "editable": false,
        "nbgrader": {
          "cell_type": "code",
          "checksum": "9dd703f21e4cd53486432008ea7b92fa",
          "grade": false,
          "grade_id": "cell-9dd4fe314b4f6f27",
          "locked": true,
          "schema_version": 3,
          "solution": false,
          "task": false
        },
        "id": "IgFT0cS9cAVO",
        "colab": {
          "base_uri": "https://localhost:8080/",
          "height": 522
        },
        "outputId": "acf624a5-92ac-4db8-e59a-50d13fd5f2e7"
      },
      "outputs": [
        {
          "output_type": "display_data",
          "data": {
            "text/plain": [
              "<Figure size 600x600 with 1 Axes>"
            ],
            "image/png": "[encoded data removed]"
          },
          "metadata": {}
        }
      ],
      "source": [
        "fig = plt.figure(figsize=(6,6))\n",
        "\n",
        "# plot negatives in red\n",
        "plt.scatter(X[y[:,0]==0,0], \\\n",
        "            X[y[:,0]==0,1], \\\n",
        "            alpha = 0.5,\\\n",
        "            c = 'red')\n",
        "\n",
        "# and positives in blue\n",
        "plt.scatter(x=X[y[:,0]==1,0], \\\n",
        "            y=X[y[:,0]==1,1], \\\n",
        "            alpha = 0.5, \\\n",
        "            c = 'blue')\n",
        "\n",
        "P=1\n",
        "N=0\n",
        "legend_elements = [ Line2D([0], [0], marker='o', color='r',\\\n",
        "                    label='Class %d'%N, markerfacecolor='r',\\\n",
        "                    markersize=10),\\\n",
        "                    Line2D([0], [0], marker='o', color='b',\\\n",
        "                    label='Class %d'%P, markerfacecolor='b',\\\n",
        "                    markersize=10) ]\n",
        "\n",
        "plt.legend(handles=legend_elements, loc='best')\n",
        "plt.show()\n"
      ]
    },
    {
      "cell_type": "markdown",
      "metadata": {
        "deletable": false,
        "editable": false,
        "nbgrader": {
          "cell_type": "markdown",
          "checksum": "d97db719083acf03311349e802cc42ec",
          "grade": false,
          "grade_id": "cell-b063792e3e432100",
          "locked": true,
          "schema_version": 3,
          "solution": false,
          "task": false
        },
        "id": "EYJHydIScAVO"
      },
      "source": [
        "### <font style=\"background-color: #f7dc6f\">2.1.3. Let's train the logistic regressor and plot the loss curve</font>"
      ]
    },
    {
      "cell_type": "code",
      "execution_count": 13,
      "metadata": {
        "deletable": false,
        "nbgrader": {
          "cell_type": "code",
          "checksum": "fd2de83c8963c83da89909799eb84fd4",
          "grade": false,
          "grade_id": "cell-879275ed92eb84a4",
          "locked": false,
          "schema_version": 3,
          "solution": true,
          "task": false
        },
        "id": "ju_9fZE4cAVO"
      },
      "outputs": [],
      "source": [
        "def get_logistic_regression_result(Xtilde, y, learning_rate=0.5, num_iterations=1000, return_history=True):\n",
        "    \"\"\"\n",
        "    Trains a logistic regression model using gradient descent.\n",
        "\n",
        "    This auxiliary function wraps the call to `train_logistic()` and is\n",
        "    used to enable automatic testing of logistic regression training.\n",
        "\n",
        "    In submission\n",
        "\n",
        "    :param Xtilde: design matrix with bias term included\n",
        "    :type Xtilde: np.ndarray of shape (N, d+1)\n",
        "    :param y: binary class labels\n",
        "    :type y: np.ndarray of shape (N, 1)\n",
        "    :param learning_rate: step size for gradient descent\n",
        "    :type learning_rate: float\n",
        "    :param num_iterations: number of gradient descent iterations\n",
        "    :type num_iterations: int\n",
        "    :param return_history: whether to return loss history\n",
        "    :type return_history: bool\n",
        "    :return: final weight vector and (optionally) loss history\n",
        "    :rtype: tuple (np.ndarray, list of float)\n",
        "    \"\"\"\n",
        "    np.random.seed(567) # Do not change this line!\n",
        "\n",
        "    # Replace the right hand side below with a call to the\n",
        "    # train_logistic() function defined above. Use parameter return_history=True\n",
        "\n",
        "    w_final, loss_history = train_logistic(Xtilde, y,\n",
        "                                         learning_rate=learning_rate,\n",
        "                                         w0=None,\n",
        "                                         num_iterations=num_iterations,\n",
        "                                         return_history=return_history)\n",
        "\n",
        "    return w_final, loss_history\n",
        "\n"
      ]
    },
    {
      "cell_type": "code",
      "execution_count": 14,
      "metadata": {
        "deletable": false,
        "editable": false,
        "nbgrader": {
          "cell_type": "code",
          "checksum": "c4855450b39320c2c6d3eee8baaa4009",
          "grade": true,
          "grade_id": "cell-c973936dbe1ae348",
          "locked": true,
          "points": 10,
          "schema_version": 3,
          "solution": false,
          "task": false
        },
        "id": "nvJXMUChcAVP"
      },
      "outputs": [],
      "source": [
        "# TEST CELL\n",
        "w_final, loss_hist = get_logistic_regression_result(Xtilde, y)\n",
        "\n",
        "assert loss_hist[-1] < loss_hist[0], \"Test for get_logistic_regression_result failed: Loss did not decrease\"\n"
      ]
    },
    {
      "cell_type": "code",
      "execution_count": 15,
      "metadata": {
        "deletable": false,
        "editable": false,
        "nbgrader": {
          "cell_type": "code",
          "checksum": "c04e6bb625fc5b4e063952aeea74afc8",
          "grade": false,
          "grade_id": "cell-ad987d1895c48408",
          "locked": true,
          "schema_version": 3,
          "solution": false,
          "task": false
        },
        "id": "oeArD2z1cAVP",
        "colab": {
          "base_uri": "https://localhost:8080/",
          "height": 835
        },
        "outputId": "fd48ce20-cad2-418a-e335-f4619547d6d9"
      },
      "outputs": [
        {
          "output_type": "stream",
          "name": "stdout",
          "text": [
            "\n",
            "Final weight:\n",
            " [[5.84672125]\n",
            " [3.2835674 ]\n",
            " [8.29269888]]\n",
            "\n",
            "Final loss:\n",
            " 0.04837042989861763\n"
          ]
        },
        {
          "output_type": "display_data",
          "data": {
            "text/plain": [
              "<Figure size 1200x800 with 1 Axes>"
            ],
            "image/png": "[encoded data removed]"
          },
          "metadata": {}
        }
      ],
      "source": [
        "w_logistic, loss = get_logistic_regression_result(Xtilde, y)\n",
        "print()\n",
        "print(\"Final weight:\\n\", w_logistic)\n",
        "print()\n",
        "print(\"Final loss:\\n\", loss[-1])\n",
        "\n",
        "plt.figure(figsize = (12, 8))\n",
        "plt.plot(loss)\n",
        "plt.xlabel('Iteration #')\n",
        "plt.ylabel('Cross Entropy Loss')\n",
        "plt.show()"
      ]
    },
    {
      "cell_type": "markdown",
      "metadata": {
        "deletable": false,
        "editable": false,
        "nbgrader": {
          "cell_type": "markdown",
          "checksum": "6c00f201ddd96e30329054839ee00c79",
          "grade": false,
          "grade_id": "cell-e504076b75655b87",
          "locked": true,
          "schema_version": 3,
          "solution": false,
          "task": false
        },
        "id": "jLZJaz58cAVP"
      },
      "source": [
        "### 2.1.4. Now, let's plot the decision boundary"
      ]
    },
    {
      "cell_type": "code",
      "execution_count": 16,
      "metadata": {
        "deletable": false,
        "editable": false,
        "nbgrader": {
          "cell_type": "code",
          "checksum": "f37f01530e898ff6ca574d00244371e0",
          "grade": false,
          "grade_id": "cell-9f914dc9a8ed47a4",
          "locked": true,
          "schema_version": 3,
          "solution": false,
          "task": false
        },
        "id": "ZbP_5VTKcAVP",
        "colab": {
          "base_uri": "https://localhost:8080/",
          "height": 545
        },
        "outputId": "b9baeff0-20d9-440e-f189-1db745459961"
      },
      "outputs": [
        {
          "output_type": "display_data",
          "data": {
            "text/plain": [
              "<Figure size 1200x600 with 2 Axes>"
            ],
            "image/png": "[encoded data removed]"
          },
          "metadata": {}
        }
      ],
      "source": [
        "x1min = min(X[:,0])\n",
        "x1max = max(X[:,0])\n",
        "x2min = min(X[:,1])\n",
        "x2max = max(X[:,1])\n",
        "\n",
        "y_pred = predict_logistic(Xtilde, w_logistic)\n",
        "\n",
        "fig = plt.figure(figsize=(12,6))\n",
        "ax1 = fig.add_subplot(121)\n",
        "ax1.set_title(\"Ground-truth\")\n",
        "\n",
        "# plot negatives in red\n",
        "ax1.scatter(X[y[:,0]==0,0], \\\n",
        "            X[y[:,0]==0,1], \\\n",
        "            alpha = 0.5, \\\n",
        "            c = 'red')\n",
        "\n",
        "# and positives in blue\n",
        "ax1.scatter(x=X[y[:,0]==1,0], \\\n",
        "            y=X[y[:,0]==1,1], \\\n",
        "            alpha = 0.5, \\\n",
        "            c = 'blue')\n",
        "\n",
        "ax2 = fig.add_subplot(122)\n",
        "\n",
        "ax2.set_title(\"Prediction\")\n",
        "ax2.scatter(x = X[:,0], y = X[:,1], c = -y_pred, cmap = 'coolwarm')\n",
        "ax2.legend(handles=legend_elements, loc='best')\n",
        "#ax2.set_xlim([x1min-1, x1max+1])\n",
        "#ax2.set_ylim([x2min-1, x2max+1])\n",
        "\n",
        "p1 = (x1min, -(w_logistic[0] + (x1min)*w_logistic[1])/w_logistic[2])\n",
        "p2 = (x1max, -(w_logistic[0] + (x1max)*w_logistic[1])/w_logistic[2])\n",
        "\n",
        "lines = ax2.plot([p1[0], p2[0]], [p1[1], p2[1]], '-')\n",
        "plt.setp(lines, color='g', linewidth=2.5)\n",
        "\n",
        "plt.show()\n"
      ]
    },
    {
      "cell_type": "markdown",
      "metadata": {
        "deletable": false,
        "editable": false,
        "nbgrader": {
          "cell_type": "markdown",
          "checksum": "16d19957fb68b9b9e27185a8ac979d35",
          "grade": false,
          "grade_id": "cell-88da679bf15ae874",
          "locked": true,
          "schema_version": 3,
          "solution": false,
          "task": false
        },
        "id": "c1pKjXe9cAVP"
      },
      "source": [
        "### <font style=\"background-color: #f7dc6f\">2.1.5.  Counting errors</font>"
      ]
    },
    {
      "cell_type": "code",
      "execution_count": 17,
      "metadata": {
        "deletable": false,
        "nbgrader": {
          "cell_type": "code",
          "checksum": "dcd69f529558bea7710f0678557ed237",
          "grade": false,
          "grade_id": "cell-d689238c45d464fe",
          "locked": false,
          "schema_version": 3,
          "solution": true,
          "task": false
        },
        "id": "N0-DrJCBcAVP"
      },
      "outputs": [],
      "source": [
        "def count_errors(y, y_pred):\n",
        "    \"\"\"\n",
        "    Function to count the numbers of missclassifications\n",
        "    :param y: binary class labels\n",
        "    :type y: np.ndarray of shape (N, 1)\n",
        "    :param y_pred: binary class predicted labels\n",
        "    :type y_pred: np.ndarray of shape (N, 1)\n",
        "    \"\"\"\n",
        "    # Convert predictions to binary classes using 0.5 threshold\n",
        "    # y_pred contains probabilities [0,1], need to convert to binary {0,1}\n",
        "    y_pred_binary = (y_pred >= 0.5).astype(int)\n",
        "\n",
        "    # Count misclassifications by comparing predicted vs true labels\n",
        "    errors = np.sum(y != y_pred_binary)\n",
        "\n",
        "    return int(errors)"
      ]
    },
    {
      "cell_type": "code",
      "execution_count": 18,
      "metadata": {
        "deletable": false,
        "editable": false,
        "nbgrader": {
          "cell_type": "code",
          "checksum": "e9ea60872c7345d9004117bd479a5150",
          "grade": true,
          "grade_id": "cell-fc169ab8b4a1b6b3",
          "locked": true,
          "points": 10,
          "schema_version": 3,
          "solution": false,
          "task": false
        },
        "id": "22CtH22hcAVP"
      },
      "outputs": [],
      "source": [
        "# TEST CELL\n",
        "y_pred_test = np.array([[0.4], [0.7]])\n",
        "y_test = np.array([[1.], [1.]])\n",
        "expected_num_errors = 1\n",
        "assert expected_num_errors == count_errors(y_test, y_pred_test), \"Error for count_errors function. Wrong num of missclassfications.\"\n"
      ]
    },
    {
      "cell_type": "code",
      "execution_count": 19,
      "metadata": {
        "deletable": false,
        "editable": false,
        "nbgrader": {
          "cell_type": "code",
          "checksum": "7a36e3a08660a57af2960f33f185c7f3",
          "grade": false,
          "grade_id": "cell-8ca1bf3f439a8734",
          "locked": true,
          "schema_version": 3,
          "solution": false,
          "task": false
        },
        "id": "UzOFT_hHcAVP",
        "colab": {
          "base_uri": "https://localhost:8080/"
        },
        "outputId": "93999d98-3a8c-400e-c217-dcd743deca3c"
      },
      "outputs": [
        {
          "output_type": "stream",
          "name": "stdout",
          "text": [
            "Number of misclassified examples:  2\n"
          ]
        }
      ],
      "source": [
        "y_pred = predict_logistic(Xtilde, w_logistic)\n",
        "errors = count_errors(y, y_pred)\n",
        "print(\"Number of misclassified examples: \", errors)"
      ]
    },
    {
      "cell_type": "markdown",
      "metadata": {
        "deletable": false,
        "editable": false,
        "nbgrader": {
          "cell_type": "markdown",
          "checksum": "049837e2e5251a9925ad4580f219084d",
          "grade": false,
          "grade_id": "cell-799f0769ca0d429a",
          "locked": true,
          "schema_version": 3,
          "solution": false,
          "task": false
        },
        "id": "5czrnM-PcAVR"
      },
      "source": [
        "## 2.2.  2D data, overlapping or unbalanced blobs\n",
        "\n",
        "Feel free to experiment variations regarding total number of points, spread or number of points in each class, learning rate."
      ]
    },
    {
      "cell_type": "markdown",
      "metadata": {
        "deletable": false,
        "editable": false,
        "nbgrader": {
          "cell_type": "markdown",
          "checksum": "c6ddf449113b7e74d981f473b9895662",
          "grade": false,
          "grade_id": "cell-34df95d34aed8f9a",
          "locked": true,
          "schema_version": 3,
          "solution": false,
          "task": false
        },
        "id": "mcygKVMjcAVR"
      },
      "source": [
        "# <font style=\"background-color:#abebc6\">3. More than 2 input variables</font>\n",
        "\n",
        "To this end, we will play with the dataset we have collected. The file with the dataset is <tt>dataMAC0460_5832.csv</tt>"
      ]
    },
    {
      "cell_type": "code",
      "source": [
        "\"\"\"\n",
        "# Colab + Drive\n",
        "from google.colab import drive\n",
        "drive.mount('/content/drive')\n",
        "\n",
        "# Load File\n",
        "df = pd.read_csv('/content/drive/MyDrive/dataMAC0460_5832.csv')\n",
        "df.head()\n",
        "\"\"\""
      ],
      "metadata": {
        "colab": {
          "base_uri": "https://localhost:8080/",
          "height": 224
        },
        "id": "pwClY1NyV0OK",
        "outputId": "475ddabe-6301-4535-e3fa-3dd1e6f25c3d"
      },
      "execution_count": 20,
      "outputs": [
        {
          "output_type": "stream",
          "name": "stdout",
          "text": [
            "Mounted at /content/drive\n"
          ]
        },
        {
          "output_type": "execute_result",
          "data": {
            "text/plain": [
              "      Sex  Age  Height  Weight  Shoe number\n",
              "0  Female   53     154      59           36\n",
              "1    Male   23     170      56           40\n",
              "2  Female   23     167      63           37\n",
              "3    Male   21     178      78           40\n",
              "4  Female   25     153      58           36"
            ],
            "text/html": [
              "\n",
              "  <div id=\"df-d741f7b3-ffd2-4ecd-8c19-19d1f991a075\" class=\"colab-df-container\">\n",
              "    <div>\n",
              "<style scoped>\n",
              "    .dataframe tbody tr th:only-of-type {\n",
              "        vertical-align: middle;\n",
              "    }\n",
              "\n",
              "    .dataframe tbody tr th {\n",
              "        vertical-align: top;\n",
              "    }\n",
              "\n",
              "    .dataframe thead th {\n",
              "        text-align: right;\n",
              "    }\n",
              "</style>\n",
              "<table border=\"1\" class=\"dataframe\">\n",
              "  <thead>\n",
              "    <tr style=\"text-align: right;\">\n",
              "      <th></th>\n",
              "      <th>Sex</th>\n",
              "      <th>Age</th>\n",
              "      <th>Height</th>\n",
              "      <th>Weight</th>\n",
              "      <th>Shoe number</th>\n",
              "    </tr>\n",
              "  </thead>\n",
              "  <tbody>\n",
              "    <tr>\n",
              "      <th>0</th>\n",
              "      <td>Female</td>\n",
              "      <td>53</td>\n",
              "      <td>154</td>\n",
              "      <td>59</td>\n",
              "      <td>36</td>\n",
              "    </tr>\n",
              "    <tr>\n",
              "      <th>1</th>\n",
              "      <td>Male</td>\n",
              "      <td>23</td>\n",
              "      <td>170</td>\n",
              "      <td>56</td>\n",
              "      <td>40</td>\n",
              "    </tr>\n",
              "    <tr>\n",
              "      <th>2</th>\n",
              "      <td>Female</td>\n",
              "      <td>23</td>\n",
              "      <td>167</td>\n",
              "      <td>63</td>\n",
              "      <td>37</td>\n",
              "    </tr>\n",
              "    <tr>\n",
              "      <th>3</th>\n",
              "      <td>Male</td>\n",
              "      <td>21</td>\n",
              "      <td>178</td>\n",
              "      <td>78</td>\n",
              "      <td>40</td>\n",
              "    </tr>\n",
              "    <tr>\n",
              "      <th>4</th>\n",
              "      <td>Female</td>\n",
              "      <td>25</td>\n",
              "      <td>153</td>\n",
              "      <td>58</td>\n",
              "      <td>36</td>\n",
              "    </tr>\n",
              "  </tbody>\n",
              "</table>\n",
              "</div>\n",
              "    <div class=\"colab-df-buttons\">\n",
              "\n",
              "  <div class=\"colab-df-container\">\n",
              "    <button class=\"colab-df-convert\" onclick=\"convertToInteractive('df-d741f7b3-ffd2-4ecd-8c19-19d1f991a075')\"\n",
              "            title=\"Convert this dataframe to an interactive table.\"\n",
              "            style=\"display:none;\">\n",
              "\n",
              "  <svg xmlns=\"http://www.w3.org/2000/svg\" height=\"24px\" viewBox=\"0 -960 960 960\">\n",
              "    <path d=\"M120-120v-720h720v720H120Zm60-500h600v-160H180v160Zm220 220h160v-160H400v160Zm0 220h160v-160H400v160ZM180-400h160v-160H180v160Zm440 0h160v-160H620v160ZM180-180h160v-160H180v160Zm440 0h160v-160H620v160Z\"/>\n",
              "  </svg>\n",
              "    </button>\n",
              "\n",
              "  <style>\n",
              "    .colab-df-container {\n",
              "      display:flex;\n",
              "      gap: 12px;\n",
              "    }\n",
              "\n",
              "    .colab-df-convert {\n",
              "      background-color: #E8F0FE;\n",
              "      border: none;\n",
              "      border-radius: 50%;\n",
              "      cursor: pointer;\n",
              "      display: none;\n",
              "      fill: #1967D2;\n",
              "      height: 32px;\n",
              "      padding: 0 0 0 0;\n",
              "      width: 32px;\n",
              "    }\n",
              "\n",
              "    .colab-df-convert:hover {\n",
              "      background-color: #E2EBFA;\n",
              "      box-shadow: 0px 1px 2px rgba(60, 64, 67, 0.3), 0px 1px 3px 1px rgba(60, 64, 67, 0.15);\n",
              "      fill: #174EA6;\n",
              "    }\n",
              "\n",
              "    .colab-df-buttons div {\n",
              "      margin-bottom: 4px;\n",
              "    }\n",
              "\n",
              "    [theme=dark] .colab-df-convert {\n",
              "      background-color: #3B4455;\n",
              "      fill: #D2E3FC;\n",
              "    }\n",
              "\n",
              "    [theme=dark] .colab-df-convert:hover {\n",
              "      background-color: #434B5C;\n",
              "      box-shadow: 0px 1px 3px 1px rgba(0, 0, 0, 0.15);\n",
              "      filter: drop-shadow(0px 1px 2px rgba(0, 0, 0, 0.3));\n",
              "      fill: #FFFFFF;\n",
              "    }\n",
              "  </style>\n",
              "\n",
              "    <script>\n",
              "      const buttonEl =\n",
              "        document.querySelector('#df-d741f7b3-ffd2-4ecd-8c19-19d1f991a075 button.colab-df-convert');\n",
              "      buttonEl.style.display =\n",
              "        google.colab.kernel.accessAllowed ? 'block' : 'none';\n",
              "\n",
              "      async function convertToInteractive(key) {\n",
              "        const element = document.querySelector('#df-d741f7b3-ffd2-4ecd-8c19-19d1f991a075');\n",
              "        const dataTable =\n",
              "          await google.colab.kernel.invokeFunction('convertToInteractive',\n",
              "                                                    [key], {});\n",
              "        if (!dataTable) return;\n",
              "\n",
              "        const docLinkHtml = 'Like what you see? Visit the ' +\n",
              "          '<a target=\"_blank\" href=https://colab.research.google.com/notebooks/data_table.ipynb>data table notebook</a>'\n",
              "          + ' to learn more about interactive tables.';\n",
              "        element.innerHTML = '';\n",
              "        dataTable['output_type'] = 'display_data';\n",
              "        await google.colab.output.renderOutput(dataTable, element);\n",
              "        const docLink = document.createElement('div');\n",
              "        docLink.innerHTML = docLinkHtml;\n",
              "        element.appendChild(docLink);\n",
              "      }\n",
              "    </script>\n",
              "  </div>\n",
              "\n",
              "\n",
              "    <div id=\"df-1da63f60-0af4-45e1-8b8a-afddf5fdbad9\">\n",
              "      <button class=\"colab-df-quickchart\" onclick=\"quickchart('df-1da63f60-0af4-45e1-8b8a-afddf5fdbad9')\"\n",
              "                title=\"Suggest charts\"\n",
              "                style=\"display:none;\">\n",
              "\n",
              "<svg xmlns=\"http://www.w3.org/2000/svg\" height=\"24px\"viewBox=\"0 0 24 24\"\n",
              "     width=\"24px\">\n",
              "    <g>\n",
              "        <path d=\"M19 3H5c-1.1 0-2 .9-2 2v14c0 1.1.9 2 2 2h14c1.1 0 2-.9 2-2V5c0-1.1-.9-2-2-2zM9 17H7v-7h2v7zm4 0h-2V7h2v10zm4 0h-2v-4h2v4z\"/>\n",
              "    </g>\n",
              "</svg>\n",
              "      </button>\n",
              "\n",
              "<style>\n",
              "  .colab-df-quickchart {\n",
              "      --bg-color: #E8F0FE;\n",
              "      --fill-color: #1967D2;\n",
              "      --hover-bg-color: #E2EBFA;\n",
              "      --hover-fill-color: #174EA6;\n",
              "      --disabled-fill-color: #AAA;\n",
              "      --disabled-bg-color: #DDD;\n",
              "  }\n",
              "\n",
              "  [theme=dark] .colab-df-quickchart {\n",
              "      --bg-color: #3B4455;\n",
              "      --fill-color: #D2E3FC;\n",
              "      --hover-bg-color: #434B5C;\n",
              "      --hover-fill-color: #FFFFFF;\n",
              "      --disabled-bg-color: #3B4455;\n",
              "      --disabled-fill-color: #666;\n",
              "  }\n",
              "\n",
              "  .colab-df-quickchart {\n",
              "    background-color: var(--bg-color);\n",
              "    border: none;\n",
              "    border-radius: 50%;\n",
              "    cursor: pointer;\n",
              "    display: none;\n",
              "    fill: var(--fill-color);\n",
              "    height: 32px;\n",
              "    padding: 0;\n",
              "    width: 32px;\n",
              "  }\n",
              "\n",
              "  .colab-df-quickchart:hover {\n",
              "    background-color: var(--hover-bg-color);\n",
              "    box-shadow: 0 1px 2px rgba(60, 64, 67, 0.3), 0 1px 3px 1px rgba(60, 64, 67, 0.15);\n",
              "    fill: var(--button-hover-fill-color);\n",
              "  }\n",
              "\n",
              "  .colab-df-quickchart-complete:disabled,\n",
              "  .colab-df-quickchart-complete:disabled:hover {\n",
              "    background-color: var(--disabled-bg-color);\n",
              "    fill: var(--disabled-fill-color);\n",
              "    box-shadow: none;\n",
              "  }\n",
              "\n",
              "  .colab-df-spinner {\n",
              "    border: 2px solid var(--fill-color);\n",
              "    border-color: transparent;\n",
              "    border-bottom-color: var(--fill-color);\n",
              "    animation:\n",
              "      spin 1s steps(1) infinite;\n",
              "  }\n",
              "\n",
              "  @keyframes spin {\n",
              "    0% {\n",
              "      border-color: transparent;\n",
              "      border-bottom-color: var(--fill-color);\n",
              "      border-left-color: var(--fill-color);\n",
              "    }\n",
              "    20% {\n",
              "      border-color: transparent;\n",
              "      border-left-color: var(--fill-color);\n",
              "      border-top-color: var(--fill-color);\n",
              "    }\n",
              "    30% {\n",
              "      border-color: transparent;\n",
              "      border-left-color: var(--fill-color);\n",
              "      border-top-color: var(--fill-color);\n",
              "      border-right-color: var(--fill-color);\n",
              "    }\n",
              "    40% {\n",
              "      border-color: transparent;\n",
              "      border-right-color: var(--fill-color);\n",
              "      border-top-color: var(--fill-color);\n",
              "    }\n",
              "    60% {\n",
              "      border-color: transparent;\n",
              "      border-right-color: var(--fill-color);\n",
              "    }\n",
              "    80% {\n",
              "      border-color: transparent;\n",
              "      border-right-color: var(--fill-color);\n",
              "      border-bottom-color: var(--fill-color);\n",
              "    }\n",
              "    90% {\n",
              "      border-color: transparent;\n",
              "      border-bottom-color: var(--fill-color);\n",
              "    }\n",
              "  }\n",
              "</style>\n",
              "\n",
              "      <script>\n",
              "        async function quickchart(key) {\n",
              "          const quickchartButtonEl =\n",
              "            document.querySelector('#' + key + ' button');\n",
              "          quickchartButtonEl.disabled = true;  // To prevent multiple clicks.\n",
              "          quickchartButtonEl.classList.add('colab-df-spinner');\n",
              "          try {\n",
              "            const charts = await google.colab.kernel.invokeFunction(\n",
              "                'suggestCharts', [key], {});\n",
              "          } catch (error) {\n",
              "            console.error('Error during call to suggestCharts:', error);\n",
              "          }\n",
              "          quickchartButtonEl.classList.remove('colab-df-spinner');\n",
              "          quickchartButtonEl.classList.add('colab-df-quickchart-complete');\n",
              "        }\n",
              "        (() => {\n",
              "          let quickchartButtonEl =\n",
              "            document.querySelector('#df-1da63f60-0af4-45e1-8b8a-afddf5fdbad9 button');\n",
              "          quickchartButtonEl.style.display =\n",
              "            google.colab.kernel.accessAllowed ? 'block' : 'none';\n",
              "        })();\n",
              "      </script>\n",
              "    </div>\n",
              "\n",
              "    </div>\n",
              "  </div>\n"
            ],
            "application/vnd.google.colaboratory.intrinsic+json": {
              "type": "dataframe",
              "variable_name": "df",
              "summary": "{\n  \"name\": \"df\",\n  \"rows\": 257,\n  \"fields\": [\n    {\n      \"column\": \"Sex\",\n      \"properties\": {\n        \"dtype\": \"category\",\n        \"num_unique_values\": 2,\n        \"samples\": [\n          \"Male\",\n          \"Female\"\n        ],\n        \"semantic_type\": \"\",\n        \"description\": \"\"\n      }\n    },\n    {\n      \"column\": \"Age\",\n      \"properties\": {\n        \"dtype\": \"number\",\n        \"std\": 13,\n        \"min\": 3,\n        \"max\": 82,\n        \"num_unique_values\": 43,\n        \"samples\": [\n          17,\n          57\n        ],\n        \"semantic_type\": \"\",\n        \"description\": \"\"\n      }\n    },\n    {\n      \"column\": \"Height\",\n      \"properties\": {\n        \"dtype\": \"number\",\n        \"std\": 14,\n        \"min\": 12,\n        \"max\": 194,\n        \"num_unique_values\": 44,\n        \"samples\": [\n          175,\n          166\n        ],\n        \"semantic_type\": \"\",\n        \"description\": \"\"\n      }\n    },\n    {\n      \"column\": \"Weight\",\n      \"properties\": {\n        \"dtype\": \"number\",\n        \"std\": 16,\n        \"min\": 11,\n        \"max\": 148,\n        \"num_unique_values\": 63,\n        \"samples\": [\n          94,\n          49\n        ],\n        \"semantic_type\": \"\",\n        \"description\": \"\"\n      }\n    },\n    {\n      \"column\": \"Shoe number\",\n      \"properties\": {\n        \"dtype\": \"number\",\n        \"std\": 3,\n        \"min\": 21,\n        \"max\": 46,\n        \"num_unique_values\": 16,\n        \"samples\": [\n          36,\n          40\n        ],\n        \"semantic_type\": \"\",\n        \"description\": \"\"\n      }\n    }\n  ]\n}"
            }
          },
          "metadata": {},
          "execution_count": 20
        }
      ]
    },
    {
      "cell_type": "code",
      "execution_count": null,
      "metadata": {
        "deletable": false,
        "editable": false,
        "nbgrader": {
          "cell_type": "code",
          "checksum": "20ef8a1103596042b6583247b60b60f3",
          "grade": false,
          "grade_id": "cell-e985681dccf6e466",
          "locked": true,
          "schema_version": 3,
          "solution": false,
          "task": false
        },
        "id": "WXVGrVQ-cAVR",
        "colab": {
          "base_uri": "https://localhost:8080/",
          "height": 321
        },
        "outputId": "7a1bcc94-e9e7-4298-bb08-06e4fa37d041"
      },
      "outputs": [
        {
          "output_type": "error",
          "ename": "FileNotFoundError",
          "evalue": "[Errno 2] No such file or directory: 'dataMAC0460_5832.csv'",
          "traceback": [
            "\u001b[0;31m---------------------------------------------------------------------------\u001b[0m",
            "\u001b[0;31mFileNotFoundError\u001b[0m                         Traceback (most recent call last)",
            "\u001b[0;32m<ipython-input-20-2f89441d530a>\u001b[0m in \u001b[0;36m<cell line: 0>\u001b[0;34m()\u001b[0m\n\u001b[1;32m      1\u001b[0m \u001b[0;31m# load the dataset\u001b[0m\u001b[0;34m\u001b[0m\u001b[0;34m\u001b[0m\u001b[0m\n\u001b[0;32m----> 2\u001b[0;31m \u001b[0mdf\u001b[0m \u001b[0;34m=\u001b[0m \u001b[0mpd\u001b[0m\u001b[0;34m.\u001b[0m\u001b[0mread_csv\u001b[0m\u001b[0;34m(\u001b[0m\u001b[0;34m'dataMAC0460_5832.csv'\u001b[0m\u001b[0;34m)\u001b[0m\u001b[0;34m\u001b[0m\u001b[0;34m\u001b[0m\u001b[0m\n\u001b[0m\u001b[1;32m      3\u001b[0m \u001b[0mdf\u001b[0m\u001b[0;34m.\u001b[0m\u001b[0mhead\u001b[0m\u001b[0;34m(\u001b[0m\u001b[0;34m)\u001b[0m\u001b[0;34m\u001b[0m\u001b[0;34m\u001b[0m\u001b[0m\n",
            "\u001b[0;32m/usr/local/lib/python3.11/dist-packages/pandas/io/parsers/readers.py\u001b[0m in \u001b[0;36mread_csv\u001b[0;34m(filepath_or_buffer, sep, delimiter, header, names, index_col, usecols, dtype, engine, converters, true_values, false_values, skipinitialspace, skiprows, skipfooter, nrows, na_values, keep_default_na, na_filter, verbose, skip_blank_lines, parse_dates, infer_datetime_format, keep_date_col, date_parser, date_format, dayfirst, cache_dates, iterator, chunksize, compression, thousands, decimal, lineterminator, quotechar, quoting, doublequote, escapechar, comment, encoding, encoding_errors, dialect, on_bad_lines, delim_whitespace, low_memory, memory_map, float_precision, storage_options, dtype_backend)\u001b[0m\n\u001b[1;32m   1024\u001b[0m     \u001b[0mkwds\u001b[0m\u001b[0;34m.\u001b[0m\u001b[0mupdate\u001b[0m\u001b[0;34m(\u001b[0m\u001b[0mkwds_defaults\u001b[0m\u001b[0;34m)\u001b[0m\u001b[0;34m\u001b[0m\u001b[0;34m\u001b[0m\u001b[0m\n\u001b[1;32m   1025\u001b[0m \u001b[0;34m\u001b[0m\u001b[0m\n\u001b[0;32m-> 1026\u001b[0;31m     \u001b[0;32mreturn\u001b[0m \u001b[0m_read\u001b[0m\u001b[0;34m(\u001b[0m\u001b[0mfilepath_or_buffer\u001b[0m\u001b[0;34m,\u001b[0m \u001b[0mkwds\u001b[0m\u001b[0;34m)\u001b[0m\u001b[0;34m\u001b[0m\u001b[0;34m\u001b[0m\u001b[0m\n\u001b[0m\u001b[1;32m   1027\u001b[0m \u001b[0;34m\u001b[0m\u001b[0m\n\u001b[1;32m   1028\u001b[0m \u001b[0;34m\u001b[0m\u001b[0m\n",
            "\u001b[0;32m/usr/local/lib/python3.11/dist-packages/pandas/io/parsers/readers.py\u001b[0m in \u001b[0;36m_read\u001b[0;34m(filepath_or_buffer, kwds)\u001b[0m\n\u001b[1;32m    618\u001b[0m \u001b[0;34m\u001b[0m\u001b[0m\n\u001b[1;32m    619\u001b[0m     \u001b[0;31m# Create the parser.\u001b[0m\u001b[0;34m\u001b[0m\u001b[0;34m\u001b[0m\u001b[0m\n\u001b[0;32m--> 620\u001b[0;31m     \u001b[0mparser\u001b[0m \u001b[0;34m=\u001b[0m \u001b[0mTextFileReader\u001b[0m\u001b[0;34m(\u001b[0m\u001b[0mfilepath_or_buffer\u001b[0m\u001b[0;34m,\u001b[0m \u001b[0;34m**\u001b[0m\u001b[0mkwds\u001b[0m\u001b[0;34m)\u001b[0m\u001b[0;34m\u001b[0m\u001b[0;34m\u001b[0m\u001b[0m\n\u001b[0m\u001b[1;32m    621\u001b[0m \u001b[0;34m\u001b[0m\u001b[0m\n\u001b[1;32m    622\u001b[0m     \u001b[0;32mif\u001b[0m \u001b[0mchunksize\u001b[0m \u001b[0;32mor\u001b[0m \u001b[0miterator\u001b[0m\u001b[0;34m:\u001b[0m\u001b[0;34m\u001b[0m\u001b[0;34m\u001b[0m\u001b[0m\n",
            "\u001b[0;32m/usr/local/lib/python3.11/dist-packages/pandas/io/parsers/readers.py\u001b[0m in \u001b[0;36m__init__\u001b[0;34m(self, f, engine, **kwds)\u001b[0m\n\u001b[1;32m   1618\u001b[0m \u001b[0;34m\u001b[0m\u001b[0m\n\u001b[1;32m   1619\u001b[0m         \u001b[0mself\u001b[0m\u001b[0;34m.\u001b[0m\u001b[0mhandles\u001b[0m\u001b[0;34m:\u001b[0m \u001b[0mIOHandles\u001b[0m \u001b[0;34m|\u001b[0m \u001b[0;32mNone\u001b[0m \u001b[0;34m=\u001b[0m \u001b[0;32mNone\u001b[0m\u001b[0;34m\u001b[0m\u001b[0;34m\u001b[0m\u001b[0m\n\u001b[0;32m-> 1620\u001b[0;31m         \u001b[0mself\u001b[0m\u001b[0;34m.\u001b[0m\u001b[0m_engine\u001b[0m \u001b[0;34m=\u001b[0m \u001b[0mself\u001b[0m\u001b[0;34m.\u001b[0m\u001b[0m_make_engine\u001b[0m\u001b[0;34m(\u001b[0m\u001b[0mf\u001b[0m\u001b[0;34m,\u001b[0m \u001b[0mself\u001b[0m\u001b[0;34m.\u001b[0m\u001b[0mengine\u001b[0m\u001b[0;34m)\u001b[0m\u001b[0;34m\u001b[0m\u001b[0;34m\u001b[0m\u001b[0m\n\u001b[0m\u001b[1;32m   1621\u001b[0m \u001b[0;34m\u001b[0m\u001b[0m\n\u001b[1;32m   1622\u001b[0m     \u001b[0;32mdef\u001b[0m \u001b[0mclose\u001b[0m\u001b[0;34m(\u001b[0m\u001b[0mself\u001b[0m\u001b[0;34m)\u001b[0m \u001b[0;34m->\u001b[0m \u001b[0;32mNone\u001b[0m\u001b[0;34m:\u001b[0m\u001b[0;34m\u001b[0m\u001b[0;34m\u001b[0m\u001b[0m\n",
            "\u001b[0;32m/usr/local/lib/python3.11/dist-packages/pandas/io/parsers/readers.py\u001b[0m in \u001b[0;36m_make_engine\u001b[0;34m(self, f, engine)\u001b[0m\n\u001b[1;32m   1878\u001b[0m                 \u001b[0;32mif\u001b[0m \u001b[0;34m\"b\"\u001b[0m \u001b[0;32mnot\u001b[0m \u001b[0;32min\u001b[0m \u001b[0mmode\u001b[0m\u001b[0;34m:\u001b[0m\u001b[0;34m\u001b[0m\u001b[0;34m\u001b[0m\u001b[0m\n\u001b[1;32m   1879\u001b[0m                     \u001b[0mmode\u001b[0m \u001b[0;34m+=\u001b[0m \u001b[0;34m\"b\"\u001b[0m\u001b[0;34m\u001b[0m\u001b[0;34m\u001b[0m\u001b[0m\n\u001b[0;32m-> 1880\u001b[0;31m             self.handles = get_handle(\n\u001b[0m\u001b[1;32m   1881\u001b[0m                 \u001b[0mf\u001b[0m\u001b[0;34m,\u001b[0m\u001b[0;34m\u001b[0m\u001b[0;34m\u001b[0m\u001b[0m\n\u001b[1;32m   1882\u001b[0m                 \u001b[0mmode\u001b[0m\u001b[0;34m,\u001b[0m\u001b[0;34m\u001b[0m\u001b[0;34m\u001b[0m\u001b[0m\n",
            "\u001b[0;32m/usr/local/lib/python3.11/dist-packages/pandas/io/common.py\u001b[0m in \u001b[0;36mget_handle\u001b[0;34m(path_or_buf, mode, encoding, compression, memory_map, is_text, errors, storage_options)\u001b[0m\n\u001b[1;32m    871\u001b[0m         \u001b[0;32mif\u001b[0m \u001b[0mioargs\u001b[0m\u001b[0;34m.\u001b[0m\u001b[0mencoding\u001b[0m \u001b[0;32mand\u001b[0m \u001b[0;34m\"b\"\u001b[0m \u001b[0;32mnot\u001b[0m \u001b[0;32min\u001b[0m \u001b[0mioargs\u001b[0m\u001b[0;34m.\u001b[0m\u001b[0mmode\u001b[0m\u001b[0;34m:\u001b[0m\u001b[0;34m\u001b[0m\u001b[0;34m\u001b[0m\u001b[0m\n\u001b[1;32m    872\u001b[0m             \u001b[0;31m# Encoding\u001b[0m\u001b[0;34m\u001b[0m\u001b[0;34m\u001b[0m\u001b[0m\n\u001b[0;32m--> 873\u001b[0;31m             handle = open(\n\u001b[0m\u001b[1;32m    874\u001b[0m                 \u001b[0mhandle\u001b[0m\u001b[0;34m,\u001b[0m\u001b[0;34m\u001b[0m\u001b[0;34m\u001b[0m\u001b[0m\n\u001b[1;32m    875\u001b[0m                 \u001b[0mioargs\u001b[0m\u001b[0;34m.\u001b[0m\u001b[0mmode\u001b[0m\u001b[0;34m,\u001b[0m\u001b[0;34m\u001b[0m\u001b[0;34m\u001b[0m\u001b[0m\n",
            "\u001b[0;31mFileNotFoundError\u001b[0m: [Errno 2] No such file or directory: 'dataMAC0460_5832.csv'"
          ]
        }
      ],
      "source": [
        "# load the dataset\n",
        "df = pd.read_csv('dataMAC0460_5832.csv')\n",
        "df.head()"
      ]
    },
    {
      "cell_type": "code",
      "execution_count": 21,
      "metadata": {
        "deletable": false,
        "editable": false,
        "nbgrader": {
          "cell_type": "code",
          "checksum": "dcc36d908c3077347c299d91071ee9b4",
          "grade": false,
          "grade_id": "cell-e75331e6ebf33e28",
          "locked": true,
          "schema_version": 3,
          "solution": false,
          "task": false
        },
        "id": "1pGLl335cAVS",
        "colab": {
          "base_uri": "https://localhost:8080/"
        },
        "outputId": "6bae798a-9e55-4c8e-c5e9-d3aaec6eb5c2"
      },
      "outputs": [
        {
          "output_type": "stream",
          "name": "stderr",
          "text": [
            "<ipython-input-21-69bc2768a1ff>:2: FutureWarning: Downcasting behavior in `replace` is deprecated and will be removed in a future version. To retain the old behavior, explicitly call `result.infer_objects(copy=False)`. To opt-in to the future behavior, set `pd.set_option('future.no_silent_downcasting', True)`\n",
            "  df = df1.replace('Male', 1)\n"
          ]
        }
      ],
      "source": [
        "df1 = df.replace('Female', 0)\n",
        "df = df1.replace('Male', 1)"
      ]
    },
    {
      "cell_type": "code",
      "execution_count": 22,
      "metadata": {
        "deletable": false,
        "editable": false,
        "nbgrader": {
          "cell_type": "code",
          "checksum": "70aa4dd024ddc24dfd31d7011f35a12e",
          "grade": false,
          "grade_id": "cell-1f6bc9cd055012e9",
          "locked": true,
          "schema_version": 3,
          "solution": false,
          "task": false
        },
        "id": "BbvF1awFcAVV",
        "colab": {
          "base_uri": "https://localhost:8080/",
          "height": 206
        },
        "outputId": "e5efb760-a6b1-42d3-f762-3e0bdde2b868"
      },
      "outputs": [
        {
          "output_type": "execute_result",
          "data": {
            "text/plain": [
              "   Sex  Age  Height  Weight  Shoe number\n",
              "0    0   53     154      59           36\n",
              "1    1   23     170      56           40\n",
              "2    0   23     167      63           37\n",
              "3    1   21     178      78           40\n",
              "4    0   25     153      58           36"
            ],
            "text/html": [
              "\n",
              "  <div id=\"df-c2b8d932-95b8-49e7-a1e3-f98cef154a0b\" class=\"colab-df-container\">\n",
              "    <div>\n",
              "<style scoped>\n",
              "    .dataframe tbody tr th:only-of-type {\n",
              "        vertical-align: middle;\n",
              "    }\n",
              "\n",
              "    .dataframe tbody tr th {\n",
              "        vertical-align: top;\n",
              "    }\n",
              "\n",
              "    .dataframe thead th {\n",
              "        text-align: right;\n",
              "    }\n",
              "</style>\n",
              "<table border=\"1\" class=\"dataframe\">\n",
              "  <thead>\n",
              "    <tr style=\"text-align: right;\">\n",
              "      <th></th>\n",
              "      <th>Sex</th>\n",
              "      <th>Age</th>\n",
              "      <th>Height</th>\n",
              "      <th>Weight</th>\n",
              "      <th>Shoe number</th>\n",
              "    </tr>\n",
              "  </thead>\n",
              "  <tbody>\n",
              "    <tr>\n",
              "      <th>0</th>\n",
              "      <td>0</td>\n",
              "      <td>53</td>\n",
              "      <td>154</td>\n",
              "      <td>59</td>\n",
              "      <td>36</td>\n",
              "    </tr>\n",
              "    <tr>\n",
              "      <th>1</th>\n",
              "      <td>1</td>\n",
              "      <td>23</td>\n",
              "      <td>170</td>\n",
              "      <td>56</td>\n",
              "      <td>40</td>\n",
              "    </tr>\n",
              "    <tr>\n",
              "      <th>2</th>\n",
              "      <td>0</td>\n",
              "      <td>23</td>\n",
              "      <td>167</td>\n",
              "      <td>63</td>\n",
              "      <td>37</td>\n",
              "    </tr>\n",
              "    <tr>\n",
              "      <th>3</th>\n",
              "      <td>1</td>\n",
              "      <td>21</td>\n",
              "      <td>178</td>\n",
              "      <td>78</td>\n",
              "      <td>40</td>\n",
              "    </tr>\n",
              "    <tr>\n",
              "      <th>4</th>\n",
              "      <td>0</td>\n",
              "      <td>25</td>\n",
              "      <td>153</td>\n",
              "      <td>58</td>\n",
              "      <td>36</td>\n",
              "    </tr>\n",
              "  </tbody>\n",
              "</table>\n",
              "</div>\n",
              "    <div class=\"colab-df-buttons\">\n",
              "\n",
              "  <div class=\"colab-df-container\">\n",
              "    <button class=\"colab-df-convert\" onclick=\"convertToInteractive('df-c2b8d932-95b8-49e7-a1e3-f98cef154a0b')\"\n",
              "            title=\"Convert this dataframe to an interactive table.\"\n",
              "            style=\"display:none;\">\n",
              "\n",
              "  <svg xmlns=\"http://www.w3.org/2000/svg\" height=\"24px\" viewBox=\"0 -960 960 960\">\n",
              "    <path d=\"M120-120v-720h720v720H120Zm60-500h600v-160H180v160Zm220 220h160v-160H400v160Zm0 220h160v-160H400v160ZM180-400h160v-160H180v160Zm440 0h160v-160H620v160ZM180-180h160v-160H180v160Zm440 0h160v-160H620v160Z\"/>\n",
              "  </svg>\n",
              "    </button>\n",
              "\n",
              "  <style>\n",
              "    .colab-df-container {\n",
              "      display:flex;\n",
              "      gap: 12px;\n",
              "    }\n",
              "\n",
              "    .colab-df-convert {\n",
              "      background-color: #E8F0FE;\n",
              "      border: none;\n",
              "      border-radius: 50%;\n",
              "      cursor: pointer;\n",
              "      display: none;\n",
              "      fill: #1967D2;\n",
              "      height: 32px;\n",
              "      padding: 0 0 0 0;\n",
              "      width: 32px;\n",
              "    }\n",
              "\n",
              "    .colab-df-convert:hover {\n",
              "      background-color: #E2EBFA;\n",
              "      box-shadow: 0px 1px 2px rgba(60, 64, 67, 0.3), 0px 1px 3px 1px rgba(60, 64, 67, 0.15);\n",
              "      fill: #174EA6;\n",
              "    }\n",
              "\n",
              "    .colab-df-buttons div {\n",
              "      margin-bottom: 4px;\n",
              "    }\n",
              "\n",
              "    [theme=dark] .colab-df-convert {\n",
              "      background-color: #3B4455;\n",
              "      fill: #D2E3FC;\n",
              "    }\n",
              "\n",
              "    [theme=dark] .colab-df-convert:hover {\n",
              "      background-color: #434B5C;\n",
              "      box-shadow: 0px 1px 3px 1px rgba(0, 0, 0, 0.15);\n",
              "      filter: drop-shadow(0px 1px 2px rgba(0, 0, 0, 0.3));\n",
              "      fill: #FFFFFF;\n",
              "    }\n",
              "  </style>\n",
              "\n",
              "    <script>\n",
              "      const buttonEl =\n",
              "        document.querySelector('#df-c2b8d932-95b8-49e7-a1e3-f98cef154a0b button.colab-df-convert');\n",
              "      buttonEl.style.display =\n",
              "        google.colab.kernel.accessAllowed ? 'block' : 'none';\n",
              "\n",
              "      async function convertToInteractive(key) {\n",
              "        const element = document.querySelector('#df-c2b8d932-95b8-49e7-a1e3-f98cef154a0b');\n",
              "        const dataTable =\n",
              "          await google.colab.kernel.invokeFunction('convertToInteractive',\n",
              "                                                    [key], {});\n",
              "        if (!dataTable) return;\n",
              "\n",
              "        const docLinkHtml = 'Like what you see? Visit the ' +\n",
              "          '<a target=\"_blank\" href=https://colab.research.google.com/notebooks/data_table.ipynb>data table notebook</a>'\n",
              "          + ' to learn more about interactive tables.';\n",
              "        element.innerHTML = '';\n",
              "        dataTable['output_type'] = 'display_data';\n",
              "        await google.colab.output.renderOutput(dataTable, element);\n",
              "        const docLink = document.createElement('div');\n",
              "        docLink.innerHTML = docLinkHtml;\n",
              "        element.appendChild(docLink);\n",
              "      }\n",
              "    </script>\n",
              "  </div>\n",
              "\n",
              "\n",
              "    <div id=\"df-802f4657-3db5-44ec-ab22-bee7fa9f48d5\">\n",
              "      <button class=\"colab-df-quickchart\" onclick=\"quickchart('df-802f4657-3db5-44ec-ab22-bee7fa9f48d5')\"\n",
              "                title=\"Suggest charts\"\n",
              "                style=\"display:none;\">\n",
              "\n",
              "<svg xmlns=\"http://www.w3.org/2000/svg\" height=\"24px\"viewBox=\"0 0 24 24\"\n",
              "     width=\"24px\">\n",
              "    <g>\n",
              "        <path d=\"M19 3H5c-1.1 0-2 .9-2 2v14c0 1.1.9 2 2 2h14c1.1 0 2-.9 2-2V5c0-1.1-.9-2-2-2zM9 17H7v-7h2v7zm4 0h-2V7h2v10zm4 0h-2v-4h2v4z\"/>\n",
              "    </g>\n",
              "</svg>\n",
              "      </button>\n",
              "\n",
              "<style>\n",
              "  .colab-df-quickchart {\n",
              "      --bg-color: #E8F0FE;\n",
              "      --fill-color: #1967D2;\n",
              "      --hover-bg-color: #E2EBFA;\n",
              "      --hover-fill-color: #174EA6;\n",
              "      --disabled-fill-color: #AAA;\n",
              "      --disabled-bg-color: #DDD;\n",
              "  }\n",
              "\n",
              "  [theme=dark] .colab-df-quickchart {\n",
              "      --bg-color: #3B4455;\n",
              "      --fill-color: #D2E3FC;\n",
              "      --hover-bg-color: #434B5C;\n",
              "      --hover-fill-color: #FFFFFF;\n",
              "      --disabled-bg-color: #3B4455;\n",
              "      --disabled-fill-color: #666;\n",
              "  }\n",
              "\n",
              "  .colab-df-quickchart {\n",
              "    background-color: var(--bg-color);\n",
              "    border: none;\n",
              "    border-radius: 50%;\n",
              "    cursor: pointer;\n",
              "    display: none;\n",
              "    fill: var(--fill-color);\n",
              "    height: 32px;\n",
              "    padding: 0;\n",
              "    width: 32px;\n",
              "  }\n",
              "\n",
              "  .colab-df-quickchart:hover {\n",
              "    background-color: var(--hover-bg-color);\n",
              "    box-shadow: 0 1px 2px rgba(60, 64, 67, 0.3), 0 1px 3px 1px rgba(60, 64, 67, 0.15);\n",
              "    fill: var(--button-hover-fill-color);\n",
              "  }\n",
              "\n",
              "  .colab-df-quickchart-complete:disabled,\n",
              "  .colab-df-quickchart-complete:disabled:hover {\n",
              "    background-color: var(--disabled-bg-color);\n",
              "    fill: var(--disabled-fill-color);\n",
              "    box-shadow: none;\n",
              "  }\n",
              "\n",
              "  .colab-df-spinner {\n",
              "    border: 2px solid var(--fill-color);\n",
              "    border-color: transparent;\n",
              "    border-bottom-color: var(--fill-color);\n",
              "    animation:\n",
              "      spin 1s steps(1) infinite;\n",
              "  }\n",
              "\n",
              "  @keyframes spin {\n",
              "    0% {\n",
              "      border-color: transparent;\n",
              "      border-bottom-color: var(--fill-color);\n",
              "      border-left-color: var(--fill-color);\n",
              "    }\n",
              "    20% {\n",
              "      border-color: transparent;\n",
              "      border-left-color: var(--fill-color);\n",
              "      border-top-color: var(--fill-color);\n",
              "    }\n",
              "    30% {\n",
              "      border-color: transparent;\n",
              "      border-left-color: var(--fill-color);\n",
              "      border-top-color: var(--fill-color);\n",
              "      border-right-color: var(--fill-color);\n",
              "    }\n",
              "    40% {\n",
              "      border-color: transparent;\n",
              "      border-right-color: var(--fill-color);\n",
              "      border-top-color: var(--fill-color);\n",
              "    }\n",
              "    60% {\n",
              "      border-color: transparent;\n",
              "      border-right-color: var(--fill-color);\n",
              "    }\n",
              "    80% {\n",
              "      border-color: transparent;\n",
              "      border-right-color: var(--fill-color);\n",
              "      border-bottom-color: var(--fill-color);\n",
              "    }\n",
              "    90% {\n",
              "      border-color: transparent;\n",
              "      border-bottom-color: var(--fill-color);\n",
              "    }\n",
              "  }\n",
              "</style>\n",
              "\n",
              "      <script>\n",
              "        async function quickchart(key) {\n",
              "          const quickchartButtonEl =\n",
              "            document.querySelector('#' + key + ' button');\n",
              "          quickchartButtonEl.disabled = true;  // To prevent multiple clicks.\n",
              "          quickchartButtonEl.classList.add('colab-df-spinner');\n",
              "          try {\n",
              "            const charts = await google.colab.kernel.invokeFunction(\n",
              "                'suggestCharts', [key], {});\n",
              "          } catch (error) {\n",
              "            console.error('Error during call to suggestCharts:', error);\n",
              "          }\n",
              "          quickchartButtonEl.classList.remove('colab-df-spinner');\n",
              "          quickchartButtonEl.classList.add('colab-df-quickchart-complete');\n",
              "        }\n",
              "        (() => {\n",
              "          let quickchartButtonEl =\n",
              "            document.querySelector('#df-802f4657-3db5-44ec-ab22-bee7fa9f48d5 button');\n",
              "          quickchartButtonEl.style.display =\n",
              "            google.colab.kernel.accessAllowed ? 'block' : 'none';\n",
              "        })();\n",
              "      </script>\n",
              "    </div>\n",
              "\n",
              "    </div>\n",
              "  </div>\n"
            ],
            "application/vnd.google.colaboratory.intrinsic+json": {
              "type": "dataframe",
              "variable_name": "df",
              "summary": "{\n  \"name\": \"df\",\n  \"rows\": 257,\n  \"fields\": [\n    {\n      \"column\": \"Sex\",\n      \"properties\": {\n        \"dtype\": \"number\",\n        \"std\": 0,\n        \"min\": 0,\n        \"max\": 1,\n        \"num_unique_values\": 2,\n        \"samples\": [\n          1,\n          0\n        ],\n        \"semantic_type\": \"\",\n        \"description\": \"\"\n      }\n    },\n    {\n      \"column\": \"Age\",\n      \"properties\": {\n        \"dtype\": \"number\",\n        \"std\": 13,\n        \"min\": 3,\n        \"max\": 82,\n        \"num_unique_values\": 43,\n        \"samples\": [\n          17,\n          57\n        ],\n        \"semantic_type\": \"\",\n        \"description\": \"\"\n      }\n    },\n    {\n      \"column\": \"Height\",\n      \"properties\": {\n        \"dtype\": \"number\",\n        \"std\": 14,\n        \"min\": 12,\n        \"max\": 194,\n        \"num_unique_values\": 44,\n        \"samples\": [\n          175,\n          166\n        ],\n        \"semantic_type\": \"\",\n        \"description\": \"\"\n      }\n    },\n    {\n      \"column\": \"Weight\",\n      \"properties\": {\n        \"dtype\": \"number\",\n        \"std\": 16,\n        \"min\": 11,\n        \"max\": 148,\n        \"num_unique_values\": 63,\n        \"samples\": [\n          94,\n          49\n        ],\n        \"semantic_type\": \"\",\n        \"description\": \"\"\n      }\n    },\n    {\n      \"column\": \"Shoe number\",\n      \"properties\": {\n        \"dtype\": \"number\",\n        \"std\": 3,\n        \"min\": 21,\n        \"max\": 46,\n        \"num_unique_values\": 16,\n        \"samples\": [\n          36,\n          40\n        ],\n        \"semantic_type\": \"\",\n        \"description\": \"\"\n      }\n    }\n  ]\n}"
            }
          },
          "metadata": {},
          "execution_count": 22
        }
      ],
      "source": [
        "df.head()"
      ]
    },
    {
      "cell_type": "code",
      "execution_count": 23,
      "metadata": {
        "deletable": false,
        "editable": false,
        "nbgrader": {
          "cell_type": "code",
          "checksum": "11170f81d0cc35b6e7560ef5d01d376d",
          "grade": false,
          "grade_id": "cell-900891325536c04a",
          "locked": true,
          "schema_version": 3,
          "solution": false,
          "task": false
        },
        "id": "E4qucTWacAVV",
        "colab": {
          "base_uri": "https://localhost:8080/"
        },
        "outputId": "1c1f44aa-c877-4552-eb63-541e75701350"
      },
      "outputs": [
        {
          "output_type": "stream",
          "name": "stdout",
          "text": [
            "(257, 1)\n"
          ]
        }
      ],
      "source": [
        "y = df[['Sex']].to_numpy()\n",
        "print(y.shape)"
      ]
    },
    {
      "cell_type": "code",
      "execution_count": 24,
      "metadata": {
        "deletable": false,
        "editable": false,
        "nbgrader": {
          "cell_type": "code",
          "checksum": "efe7ea8116324a53c82e2b1947e46526",
          "grade": false,
          "grade_id": "cell-3f8c2eb8c89de445",
          "locked": true,
          "schema_version": 3,
          "solution": false,
          "task": false
        },
        "id": "X8knehB-cAVW",
        "colab": {
          "base_uri": "https://localhost:8080/",
          "height": 300
        },
        "outputId": "365e3832-8930-49ba-95a1-43849d0ed5b9"
      },
      "outputs": [
        {
          "output_type": "execute_result",
          "data": {
            "text/plain": [
              "                Age        Height        Weight   Shoe number\n",
              "count  2.570000e+02  2.570000e+02  2.570000e+02  2.570000e+02\n",
              "mean   1.175022e-16  7.879560e-16 -1.503337e-16 -6.186145e-16\n",
              "std    1.000000e+00  1.000000e+00  1.000000e+00  1.000000e+00\n",
              "min   -1.914199e+00 -1.093171e+01 -3.677728e+00 -6.143107e+00\n",
              "25%   -5.618648e-01 -4.288367e-01 -6.427588e-01 -8.284729e-01\n",
              "50%   -4.116054e-01  5.484808e-02 -2.337743e-02  1.680210e-01\n",
              "75%    3.917267e-02  6.076307e-01  5.960040e-01  8.323503e-01\n",
              "max    4.021046e+00  1.644098e+00  4.807797e+00  2.161009e+00"
            ],
            "text/html": [
              "\n",
              "  <div id=\"df-5170eda2-61ca-4724-b14b-c74b86988766\" class=\"colab-df-container\">\n",
              "    <div>\n",
              "<style scoped>\n",
              "    .dataframe tbody tr th:only-of-type {\n",
              "        vertical-align: middle;\n",
              "    }\n",
              "\n",
              "    .dataframe tbody tr th {\n",
              "        vertical-align: top;\n",
              "    }\n",
              "\n",
              "    .dataframe thead th {\n",
              "        text-align: right;\n",
              "    }\n",
              "</style>\n",
              "<table border=\"1\" class=\"dataframe\">\n",
              "  <thead>\n",
              "    <tr style=\"text-align: right;\">\n",
              "      <th></th>\n",
              "      <th>Age</th>\n",
              "      <th>Height</th>\n",
              "      <th>Weight</th>\n",
              "      <th>Shoe number</th>\n",
              "    </tr>\n",
              "  </thead>\n",
              "  <tbody>\n",
              "    <tr>\n",
              "      <th>count</th>\n",
              "      <td>2.570000e+02</td>\n",
              "      <td>2.570000e+02</td>\n",
              "      <td>2.570000e+02</td>\n",
              "      <td>2.570000e+02</td>\n",
              "    </tr>\n",
              "    <tr>\n",
              "      <th>mean</th>\n",
              "      <td>1.175022e-16</td>\n",
              "      <td>7.879560e-16</td>\n",
              "      <td>-1.503337e-16</td>\n",
              "      <td>-6.186145e-16</td>\n",
              "    </tr>\n",
              "    <tr>\n",
              "      <th>std</th>\n",
              "      <td>1.000000e+00</td>\n",
              "      <td>1.000000e+00</td>\n",
              "      <td>1.000000e+00</td>\n",
              "      <td>1.000000e+00</td>\n",
              "    </tr>\n",
              "    <tr>\n",
              "      <th>min</th>\n",
              "      <td>-1.914199e+00</td>\n",
              "      <td>-1.093171e+01</td>\n",
              "      <td>-3.677728e+00</td>\n",
              "      <td>-6.143107e+00</td>\n",
              "    </tr>\n",
              "    <tr>\n",
              "      <th>25%</th>\n",
              "      <td>-5.618648e-01</td>\n",
              "      <td>-4.288367e-01</td>\n",
              "      <td>-6.427588e-01</td>\n",
              "      <td>-8.284729e-01</td>\n",
              "    </tr>\n",
              "    <tr>\n",
              "      <th>50%</th>\n",
              "      <td>-4.116054e-01</td>\n",
              "      <td>5.484808e-02</td>\n",
              "      <td>-2.337743e-02</td>\n",
              "      <td>1.680210e-01</td>\n",
              "    </tr>\n",
              "    <tr>\n",
              "      <th>75%</th>\n",
              "      <td>3.917267e-02</td>\n",
              "      <td>6.076307e-01</td>\n",
              "      <td>5.960040e-01</td>\n",
              "      <td>8.323503e-01</td>\n",
              "    </tr>\n",
              "    <tr>\n",
              "      <th>max</th>\n",
              "      <td>4.021046e+00</td>\n",
              "      <td>1.644098e+00</td>\n",
              "      <td>4.807797e+00</td>\n",
              "      <td>2.161009e+00</td>\n",
              "    </tr>\n",
              "  </tbody>\n",
              "</table>\n",
              "</div>\n",
              "    <div class=\"colab-df-buttons\">\n",
              "\n",
              "  <div class=\"colab-df-container\">\n",
              "    <button class=\"colab-df-convert\" onclick=\"convertToInteractive('df-5170eda2-61ca-4724-b14b-c74b86988766')\"\n",
              "            title=\"Convert this dataframe to an interactive table.\"\n",
              "            style=\"display:none;\">\n",
              "\n",
              "  <svg xmlns=\"http://www.w3.org/2000/svg\" height=\"24px\" viewBox=\"0 -960 960 960\">\n",
              "    <path d=\"M120-120v-720h720v720H120Zm60-500h600v-160H180v160Zm220 220h160v-160H400v160Zm0 220h160v-160H400v160ZM180-400h160v-160H180v160Zm440 0h160v-160H620v160ZM180-180h160v-160H180v160Zm440 0h160v-160H620v160Z\"/>\n",
              "  </svg>\n",
              "    </button>\n",
              "\n",
              "  <style>\n",
              "    .colab-df-container {\n",
              "      display:flex;\n",
              "      gap: 12px;\n",
              "    }\n",
              "\n",
              "    .colab-df-convert {\n",
              "      background-color: #E8F0FE;\n",
              "      border: none;\n",
              "      border-radius: 50%;\n",
              "      cursor: pointer;\n",
              "      display: none;\n",
              "      fill: #1967D2;\n",
              "      height: 32px;\n",
              "      padding: 0 0 0 0;\n",
              "      width: 32px;\n",
              "    }\n",
              "\n",
              "    .colab-df-convert:hover {\n",
              "      background-color: #E2EBFA;\n",
              "      box-shadow: 0px 1px 2px rgba(60, 64, 67, 0.3), 0px 1px 3px 1px rgba(60, 64, 67, 0.15);\n",
              "      fill: #174EA6;\n",
              "    }\n",
              "\n",
              "    .colab-df-buttons div {\n",
              "      margin-bottom: 4px;\n",
              "    }\n",
              "\n",
              "    [theme=dark] .colab-df-convert {\n",
              "      background-color: #3B4455;\n",
              "      fill: #D2E3FC;\n",
              "    }\n",
              "\n",
              "    [theme=dark] .colab-df-convert:hover {\n",
              "      background-color: #434B5C;\n",
              "      box-shadow: 0px 1px 3px 1px rgba(0, 0, 0, 0.15);\n",
              "      filter: drop-shadow(0px 1px 2px rgba(0, 0, 0, 0.3));\n",
              "      fill: #FFFFFF;\n",
              "    }\n",
              "  </style>\n",
              "\n",
              "    <script>\n",
              "      const buttonEl =\n",
              "        document.querySelector('#df-5170eda2-61ca-4724-b14b-c74b86988766 button.colab-df-convert');\n",
              "      buttonEl.style.display =\n",
              "        google.colab.kernel.accessAllowed ? 'block' : 'none';\n",
              "\n",
              "      async function convertToInteractive(key) {\n",
              "        const element = document.querySelector('#df-5170eda2-61ca-4724-b14b-c74b86988766');\n",
              "        const dataTable =\n",
              "          await google.colab.kernel.invokeFunction('convertToInteractive',\n",
              "                                                    [key], {});\n",
              "        if (!dataTable) return;\n",
              "\n",
              "        const docLinkHtml = 'Like what you see? Visit the ' +\n",
              "          '<a target=\"_blank\" href=https://colab.research.google.com/notebooks/data_table.ipynb>data table notebook</a>'\n",
              "          + ' to learn more about interactive tables.';\n",
              "        element.innerHTML = '';\n",
              "        dataTable['output_type'] = 'display_data';\n",
              "        await google.colab.output.renderOutput(dataTable, element);\n",
              "        const docLink = document.createElement('div');\n",
              "        docLink.innerHTML = docLinkHtml;\n",
              "        element.appendChild(docLink);\n",
              "      }\n",
              "    </script>\n",
              "  </div>\n",
              "\n",
              "\n",
              "    <div id=\"df-46fb717d-9363-4ebf-82d9-6e128a25117c\">\n",
              "      <button class=\"colab-df-quickchart\" onclick=\"quickchart('df-46fb717d-9363-4ebf-82d9-6e128a25117c')\"\n",
              "                title=\"Suggest charts\"\n",
              "                style=\"display:none;\">\n",
              "\n",
              "<svg xmlns=\"http://www.w3.org/2000/svg\" height=\"24px\"viewBox=\"0 0 24 24\"\n",
              "     width=\"24px\">\n",
              "    <g>\n",
              "        <path d=\"M19 3H5c-1.1 0-2 .9-2 2v14c0 1.1.9 2 2 2h14c1.1 0 2-.9 2-2V5c0-1.1-.9-2-2-2zM9 17H7v-7h2v7zm4 0h-2V7h2v10zm4 0h-2v-4h2v4z\"/>\n",
              "    </g>\n",
              "</svg>\n",
              "      </button>\n",
              "\n",
              "<style>\n",
              "  .colab-df-quickchart {\n",
              "      --bg-color: #E8F0FE;\n",
              "      --fill-color: #1967D2;\n",
              "      --hover-bg-color: #E2EBFA;\n",
              "      --hover-fill-color: #174EA6;\n",
              "      --disabled-fill-color: #AAA;\n",
              "      --disabled-bg-color: #DDD;\n",
              "  }\n",
              "\n",
              "  [theme=dark] .colab-df-quickchart {\n",
              "      --bg-color: #3B4455;\n",
              "      --fill-color: #D2E3FC;\n",
              "      --hover-bg-color: #434B5C;\n",
              "      --hover-fill-color: #FFFFFF;\n",
              "      --disabled-bg-color: #3B4455;\n",
              "      --disabled-fill-color: #666;\n",
              "  }\n",
              "\n",
              "  .colab-df-quickchart {\n",
              "    background-color: var(--bg-color);\n",
              "    border: none;\n",
              "    border-radius: 50%;\n",
              "    cursor: pointer;\n",
              "    display: none;\n",
              "    fill: var(--fill-color);\n",
              "    height: 32px;\n",
              "    padding: 0;\n",
              "    width: 32px;\n",
              "  }\n",
              "\n",
              "  .colab-df-quickchart:hover {\n",
              "    background-color: var(--hover-bg-color);\n",
              "    box-shadow: 0 1px 2px rgba(60, 64, 67, 0.3), 0 1px 3px 1px rgba(60, 64, 67, 0.15);\n",
              "    fill: var(--button-hover-fill-color);\n",
              "  }\n",
              "\n",
              "  .colab-df-quickchart-complete:disabled,\n",
              "  .colab-df-quickchart-complete:disabled:hover {\n",
              "    background-color: var(--disabled-bg-color);\n",
              "    fill: var(--disabled-fill-color);\n",
              "    box-shadow: none;\n",
              "  }\n",
              "\n",
              "  .colab-df-spinner {\n",
              "    border: 2px solid var(--fill-color);\n",
              "    border-color: transparent;\n",
              "    border-bottom-color: var(--fill-color);\n",
              "    animation:\n",
              "      spin 1s steps(1) infinite;\n",
              "  }\n",
              "\n",
              "  @keyframes spin {\n",
              "    0% {\n",
              "      border-color: transparent;\n",
              "      border-bottom-color: var(--fill-color);\n",
              "      border-left-color: var(--fill-color);\n",
              "    }\n",
              "    20% {\n",
              "      border-color: transparent;\n",
              "      border-left-color: var(--fill-color);\n",
              "      border-top-color: var(--fill-color);\n",
              "    }\n",
              "    30% {\n",
              "      border-color: transparent;\n",
              "      border-left-color: var(--fill-color);\n",
              "      border-top-color: var(--fill-color);\n",
              "      border-right-color: var(--fill-color);\n",
              "    }\n",
              "    40% {\n",
              "      border-color: transparent;\n",
              "      border-right-color: var(--fill-color);\n",
              "      border-top-color: var(--fill-color);\n",
              "    }\n",
              "    60% {\n",
              "      border-color: transparent;\n",
              "      border-right-color: var(--fill-color);\n",
              "    }\n",
              "    80% {\n",
              "      border-color: transparent;\n",
              "      border-right-color: var(--fill-color);\n",
              "      border-bottom-color: var(--fill-color);\n",
              "    }\n",
              "    90% {\n",
              "      border-color: transparent;\n",
              "      border-bottom-color: var(--fill-color);\n",
              "    }\n",
              "  }\n",
              "</style>\n",
              "\n",
              "      <script>\n",
              "        async function quickchart(key) {\n",
              "          const quickchartButtonEl =\n",
              "            document.querySelector('#' + key + ' button');\n",
              "          quickchartButtonEl.disabled = true;  // To prevent multiple clicks.\n",
              "          quickchartButtonEl.classList.add('colab-df-spinner');\n",
              "          try {\n",
              "            const charts = await google.colab.kernel.invokeFunction(\n",
              "                'suggestCharts', [key], {});\n",
              "          } catch (error) {\n",
              "            console.error('Error during call to suggestCharts:', error);\n",
              "          }\n",
              "          quickchartButtonEl.classList.remove('colab-df-spinner');\n",
              "          quickchartButtonEl.classList.add('colab-df-quickchart-complete');\n",
              "        }\n",
              "        (() => {\n",
              "          let quickchartButtonEl =\n",
              "            document.querySelector('#df-46fb717d-9363-4ebf-82d9-6e128a25117c button');\n",
              "          quickchartButtonEl.style.display =\n",
              "            google.colab.kernel.accessAllowed ? 'block' : 'none';\n",
              "        })();\n",
              "      </script>\n",
              "    </div>\n",
              "\n",
              "    </div>\n",
              "  </div>\n"
            ],
            "application/vnd.google.colaboratory.intrinsic+json": {
              "type": "dataframe",
              "summary": "{\n  \"name\": \"df\",\n  \"rows\": 8,\n  \"fields\": [\n    {\n      \"column\": \"Age\",\n      \"properties\": {\n        \"dtype\": \"number\",\n        \"std\": 90.76973876487895,\n        \"min\": -1.914199060738383,\n        \"max\": 257.0,\n        \"num_unique_values\": 8,\n        \"samples\": [\n          1.1750220338445237e-16,\n          -0.41160541806958495,\n          257.0\n        ],\n        \"semantic_type\": \"\",\n        \"description\": \"\"\n      }\n    },\n    {\n      \"column\": \"Height\",\n      \"properties\": {\n        \"dtype\": \"number\",\n        \"std\": 91.35956860506552,\n        \"min\": -10.93170651302736,\n        \"max\": 257.0,\n        \"num_unique_values\": 8,\n        \"samples\": [\n          7.879559521075041e-16,\n          0.054848081080636844,\n          257.0\n        ],\n        \"semantic_type\": \"\",\n        \"description\": \"\"\n      }\n    },\n    {\n      \"column\": \"Weight\",\n      \"properties\": {\n        \"dtype\": \"number\",\n        \"std\": 90.78892561555931,\n        \"min\": -3.677727645145193,\n        \"max\": 257.0,\n        \"num_unique_values\": 8,\n        \"samples\": [\n          -1.503337013889317e-16,\n          -0.023377429985523314,\n          257.0\n        ],\n        \"semantic_type\": \"\",\n        \"description\": \"\"\n      }\n    },\n    {\n      \"column\": \"Shoe number\",\n      \"properties\": {\n        \"dtype\": \"number\",\n        \"std\": 91.03944068882687,\n        \"min\": -6.143107317079586,\n        \"max\": 257.0,\n        \"num_unique_values\": 8,\n        \"samples\": [\n          -6.18614541347558e-16,\n          0.16802102908065292,\n          257.0\n        ],\n        \"semantic_type\": \"\",\n        \"description\": \"\"\n      }\n    }\n  ]\n}"
            }
          },
          "metadata": {},
          "execution_count": 24
        }
      ],
      "source": [
        "df = df.drop(columns=['Sex'])\n",
        "df =(df-df.mean())/df.std()\n",
        "df.describe()"
      ]
    },
    {
      "cell_type": "code",
      "execution_count": 25,
      "metadata": {
        "deletable": false,
        "editable": false,
        "nbgrader": {
          "cell_type": "code",
          "checksum": "7c3d6acd5cb570e1fd69e0158f16c832",
          "grade": false,
          "grade_id": "cell-15831ed59db33b7f",
          "locked": true,
          "schema_version": 3,
          "solution": false,
          "task": false
        },
        "id": "8A5-9dJicAVW"
      },
      "outputs": [],
      "source": [
        "X = df.to_numpy()"
      ]
    },
    {
      "cell_type": "code",
      "execution_count": 26,
      "metadata": {
        "deletable": false,
        "editable": false,
        "nbgrader": {
          "cell_type": "code",
          "checksum": "cac40bd09babcdfee6fa74743877a03c",
          "grade": false,
          "grade_id": "cell-02bdd51ab28ae384",
          "locked": true,
          "schema_version": 3,
          "solution": false,
          "task": false
        },
        "id": "Wzi0ADKfcAVW",
        "colab": {
          "base_uri": "https://localhost:8080/",
          "height": 1000
        },
        "outputId": "d9c72569-17e2-4926-97c0-8ec5d56e5505"
      },
      "outputs": [
        {
          "output_type": "stream",
          "name": "stdout",
          "text": [
            "\n",
            "\n",
            "Number of input variables = 1\n",
            "\n",
            "Final weight:\n",
            " [[ 0.80182118]\n",
            " [-0.43760021]]\n",
            "Final loss:\n",
            " 0.6012137889812339\n",
            "Number of misclassified examples:  78\n"
          ]
        },
        {
          "output_type": "display_data",
          "data": {
            "text/plain": [
              "<Figure size 600x400 with 1 Axes>"
            ],
            "image/png": "[encoded data removed]"
          },
          "metadata": {}
        },
        {
          "output_type": "stream",
          "name": "stdout",
          "text": [
            "\n",
            "\n",
            "Number of input variables = 2\n",
            "\n",
            "Final weight:\n",
            " [[ 1.18369815]\n",
            " [-0.44105872]\n",
            " [ 3.21151401]]\n",
            "Final loss:\n",
            " 0.37189199017875874\n",
            "Number of misclassified examples:  36\n"
          ]
        },
        {
          "output_type": "display_data",
          "data": {
            "text/plain": [
              "<Figure size 600x400 with 1 Axes>"
            ],
            "image/png": "[encoded data removed]"
          },
          "metadata": {}
        },
        {
          "output_type": "stream",
          "name": "stdout",
          "text": [
            "\n",
            "\n",
            "Number of input variables = 3\n",
            "\n",
            "Final weight:\n",
            " [[ 1.18351569]\n",
            " [-0.4844637 ]\n",
            " [ 3.02726523]\n",
            " [ 0.19866767]]\n",
            "Final loss:\n",
            " 0.3708388617310754\n",
            "Number of misclassified examples:  36\n"
          ]
        },
        {
          "output_type": "display_data",
          "data": {
            "text/plain": [
              "<Figure size 600x400 with 1 Axes>"
            ],
            "image/png": "[encoded data removed]"
          },
          "metadata": {}
        },
        {
          "output_type": "stream",
          "name": "stdout",
          "text": [
            "\n",
            "\n",
            "Number of input variables = 4\n",
            "\n",
            "Final weight:\n",
            " [[ 1.81473361]\n",
            " [-0.43440536]\n",
            " [-0.08175213]\n",
            " [-0.2027911 ]\n",
            " [ 3.96646551]]\n",
            "Final loss:\n",
            " 0.25186014142172775\n",
            "Number of misclassified examples:  28\n"
          ]
        },
        {
          "output_type": "display_data",
          "data": {
            "text/plain": [
              "<Figure size 600x400 with 1 Axes>"
            ],
            "image/png": "[encoded data removed]"
          },
          "metadata": {}
        }
      ],
      "source": [
        "for i in range(4):\n",
        "\n",
        "  print(\"\\n\\nNumber of input variables = %d\\n\"%(i+1))\n",
        "\n",
        "  Xtilde = np.concatenate([np.ones((len(X), 1)), X[:,0:i+1]], axis = 1)  # data matrix, with left column of ONEs\n",
        "\n",
        "  w_logistic, loss = train_logistic(Xtilde, y, \\\n",
        "                                  learning_rate = 0.5,\\\n",
        "                                  num_iterations = 1000,\\\n",
        "                                  return_history = True)\n",
        "\n",
        "  # Print the final weight and loss\n",
        "  print(\"Final weight:\\n\", w_logistic)\n",
        "  print(\"Final loss:\\n\", loss[-1])\n",
        "  y_pred = predict_logistic(Xtilde, w_logistic)\n",
        "  errors = count_errors(y, y_pred)\n",
        "  print(\"Number of misclassified examples: \", errors)\n",
        "\n",
        "  plt.figure(figsize = (6,4))\n",
        "  plt.plot(loss)\n",
        "  plt.xlabel('Iteration #')\n",
        "  plt.ylabel('Cross Entropy Loss')\n",
        "  plt.show()\n"
      ]
    }
  ],
  "metadata": {
    "kernelspec": {
      "display_name": "Python 3 (ipykernel)",
      "language": "python",
      "name": "python3"
    },
    "language_info": {
      "codemirror_mode": {
        "name": "ipython",
        "version": 3
      },
      "file_extension": ".py",
      "mimetype": "text/x-python",
      "name": "python",
      "nbconvert_exporter": "python",
      "pygments_lexer": "ipython3",
      "version": "3.11.7"
    },
    "colab": {
      "provenance": []
    }
  },
  "nbformat": 4,
  "nbformat_minor": 0
}